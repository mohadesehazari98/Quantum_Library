{
  "nbformat": 4,
  "nbformat_minor": 0,
  "metadata": {
    "colab": {
      "provenance": [],
      "authorship_tag": "ABX9TyPsAi7X7Sa6M4EE4AWoYHbu",
      "include_colab_link": true
    },
    "kernelspec": {
      "name": "python3",
      "display_name": "Python 3"
    },
    "language_info": {
      "name": "python"
    }
  },
  "cells": [
    {
      "cell_type": "markdown",
      "metadata": {
        "id": "view-in-github",
        "colab_type": "text"
      },
      "source": [
        "<a href=\"https://colab.research.google.com/github/mohadesehazari98/Quantum_Library/blob/main/Xanadu/Cat_Qubit.ipynb\" target=\"_parent\"><img src=\"https://colab.research.google.com/assets/colab-badge.svg\" alt=\"Open In Colab\"/></a>"
      ]
    },
    {
      "cell_type": "code",
      "source": [
        "!python --version"
      ],
      "metadata": {
        "colab": {
          "base_uri": "https://localhost:8080/"
        },
        "id": "ofBCXljGn6Cf",
        "outputId": "0c2d8f0d-472e-4e3e-b086-a5369fbfdf1e"
      },
      "execution_count": null,
      "outputs": [
        {
          "output_type": "stream",
          "name": "stdout",
          "text": [
            "Python 3.10.6\n"
          ]
        }
      ]
    },
    {
      "cell_type": "code",
      "source": [
        "#...Installation...#\n",
        "!pip install strawberryfields --upgrade"
      ],
      "metadata": {
        "id": "eK-xlPzrr22B"
      },
      "execution_count": null,
      "outputs": []
    },
    {
      "cell_type": "code",
      "source": [
        "#...IMPORTING LIBRARIES...#\n",
        "\n",
        "import numpy as np\n",
        "import strawberryfields as sf \n",
        "from strawberryfields.ops import *\n",
        "from strawberryfields.apps import sample\n",
        "import matplotlib.pyplot as plt\n",
        "from mpl_toolkits.mplot3d import Axes3D"
      ],
      "metadata": {
        "id": "THHarpoPVz31"
      },
      "execution_count": 2,
      "outputs": []
    },
    {
      "cell_type": "markdown",
      "source": [
        "In the paper [Reference](https://journals.aps.org/pra/pdf/10.1103/PhysRevA.68.042319?casa_token=u1SaMhcSnmwAAAAA%3AiabyBitCd4es2kv31DOh7UtyfuQPaa26Azf0_p7omlioX0ANoqikg5WLSZdW0IXTrJ6dMt0kKMU-) the squeezed state is represented as:\n",
        " **𝚿**   \n",
        "we can have a corespondance between Landa and r which is $ \\lambda = - e^{i\\phi} tanh(r) $\n",
        "\n",
        "lets first calculate the Mean Photon number for  $\\lambda cos^2(\\theta) = 0.4 $"
      ],
      "metadata": {
        "id": "pxboinzY0aKX"
      }
    },
    {
      "cell_type": "code",
      "source": [
        "#...SEED...#\n",
        "np.random.seed(42)\n",
        "phi_r = (np.pi)\n",
        "phi_B = (np.pi)/2\n",
        "r_squeezed = 1.5\n",
        "k = 0.268530\n",
        "theta = k * (np.pi)/2\n",
        "shots = 3500\n",
        "modes_N = 2\n",
        "m_range = 6"
      ],
      "metadata": {
        "id": "F7ac9YlMwx-l"
      },
      "execution_count": null,
      "outputs": []
    },
    {
      "cell_type": "code",
      "source": [
        "#...TOKEN KEY...#\n",
        "\n",
        "import xcc\n",
        "settings = xcc.Settings(REFRESH_TOKEN=\"eyJhbGciOiJIUzI1NiIsInR5cCIgOiAiSldUIiwia2lkIiA6ICIwYTdjOGE5Yi1lMzdkLTQ0MzItOTU2OC0xNzI3YzEwNmYyMzEifQ.eyJpYXQiOjE2NjgzMDQzNDQsImp0aSI6IjllY2E5MzczLTRkZDQtNGVmNy1iYmE4LTU5NmNhMzNhNWUyMyIsImlzcyI6Imh0dHBzOi8vcGxhdGZvcm0ueGFuYWR1LmFpL2F1dGgvcmVhbG1zL3BsYXRmb3JtIiwiYXVkIjoiaHR0cHM6Ly9wbGF0Zm9ybS54YW5hZHUuYWkvYXV0aC9yZWFsbXMvcGxhdGZvcm0iLCJzdWIiOiI5YjVhYTExYS03NWY4LTQ0YTItYjkwZS1lZmRlZmM0YmRkOTciLCJ0eXAiOiJPZmZsaW5lIiwiYXpwIjoicHVibGljIiwic2Vzc2lvbl9zdGF0ZSI6IjIzMDBjOTE5LTRhNmYtNGI0ZC05ZTBmLTlkMmNmMTdlNmU4OSIsInNjb3BlIjoicHVibGljLXJvbGVzIHByb2ZpbGUgZW1haWwgb2ZmbGluZV9hY2Nlc3MiLCJzaWQiOiIyMzAwYzkxOS00YTZmLTRiNGQtOWUwZi05ZDJjZjE3ZTZlODkifQ.2MKFiX-Ranfnzo3xQezaGLao6wYVzNOxyiIKrtn50Mc\")\n",
        "settings.save()"
      ],
      "metadata": {
        "id": "crJvPxtmWRfz"
      },
      "execution_count": 3,
      "outputs": []
    },
    {
      "cell_type": "code",
      "source": [
        "#...SETTING THE CIRCUIT/PROGRAM...#\n",
        "\n",
        "program = sf.Program(modes_N)"
      ],
      "metadata": {
        "id": "Og6CbAzfWVSf"
      },
      "execution_count": null,
      "outputs": []
    },
    {
      "cell_type": "code",
      "source": [
        "def first_circuit(m):\n",
        "  #eng.reset()\n",
        "  program = sf.Program(2)\n",
        "  eng = sf.Engine(backend=\"fock\", backend_options={\"cutoff_dim\": 30})\n",
        "\n",
        "  with program.context as q:\n",
        "    Sgate(r_squeezed,phi_r) | q[0]\n",
        "    Vac | q[1]\n",
        "    BSgate(theta,phi_B) | (q[0], q[1])\n",
        "    MeasureFock(select=m) | q[0]\n",
        "    MeasureFock() | q[1]  \n",
        "\n",
        "  #post selection \n",
        "  result = np.zeros((shots,2))\n",
        "  for i in range(len(result)):\n",
        "    out_result = eng.run(program)\n",
        "    result[i,:] = out_result.samples\n",
        "\n",
        "  vector = result[:,1]\n",
        "  final_out = sum(vector) / shots\n",
        "  return final_out"
      ],
      "metadata": {
        "id": "ZONpzEGPE6xS"
      },
      "execution_count": null,
      "outputs": []
    },
    {
      "cell_type": "code",
      "source": [
        "#post selection \n",
        "\n",
        "mean_inside = np.zeros((m_range+1,1))\n",
        "for m in range(m_range+1):\n",
        "  mean_inside[m,0] = first_circuit(m)\n",
        "  print(mean_inside[m,0])"
      ],
      "metadata": {
        "id": "Ux6nm0Njs6-u",
        "colab": {
          "base_uri": "https://localhost:8080/"
        },
        "outputId": "7eb31b0d-a7f3-49e7-8223-af8cfcb05a79"
      },
      "execution_count": null,
      "outputs": [
        {
          "output_type": "stream",
          "name": "stdout",
          "text": [
            "0.02\n",
            "1.0725714285714285\n",
            "0.18685714285714286\n",
            "1.2062857142857142\n",
            "0.5422857142857143\n",
            "1.4057142857142857\n",
            "0.972\n",
            "1.5691428571428572\n"
          ]
        }
      ]
    },
    {
      "cell_type": "code",
      "source": [
        "mean_inside = [0.02,1.0725714285714285,0.18685714285714286,1.2062857142857142,0.5422857142857143,1.4057142857142857,0.972,1.5691428571428572]"
      ],
      "metadata": {
        "id": "M_Vu7gWyas3y"
      },
      "execution_count": 4,
      "outputs": []
    },
    {
      "cell_type": "markdown",
      "source": [
        "for $\\lambda cos^2(\\theta) = 0.4 $ and $ m = [0,1,2,3,4,5]$\n",
        "\n",
        "*based on the plot, one can neither approve or reject the idea that mean_photon_number will increase as m goes higher, for odd m*\n",
        "\n",
        "*Also the question that why for even m, the difference is so evident, but for odd m the comparison is hard, is not clear*"
      ],
      "metadata": {
        "id": "4MMgDMgz3LXF"
      }
    },
    {
      "cell_type": "code",
      "source": [
        "m_axis = [0, 1, 2, 3, 4, 5, 6, 7]\n",
        "plt.plot(m_axis, mean_inside, 'ro')\n",
        "# naming the x axis\n",
        "plt.xlabel(r'$m _ / _ \\lambda cos^2(\\theta)=0.4$')\n",
        "# naming the y axis\n",
        "plt.ylabel('mean photon number')\n",
        "plt.axis([0, 8, 0, 2])\n",
        "plt.suptitle('mean photon number over different m ')\n",
        "plt.show()\n"
      ],
      "metadata": {
        "id": "ObTnylNemY_-",
        "colab": {
          "base_uri": "https://localhost:8080/",
          "height": 314
        },
        "outputId": "eb6d0ed2-0009-4220-845e-1367e4367d55"
      },
      "execution_count": 11,
      "outputs": [
        {
          "output_type": "display_data",
          "data": {
            "text/plain": [
              "<Figure size 432x288 with 1 Axes>"
            ],
            "image/png": "[encoded data removed]"
          },
          "metadata": {
            "needs_background": "light"
          }
        }
      ]
    },
    {
      "cell_type": "markdown",
      "source": [
        "Now we would set m to be \"0\" and plot the Mean_Photon_Number for differet $\\theta$\n",
        "\n",
        "$ \\lambda cos^2(\\theta) = [0,0.08,0.16,0.24,0.32,0.4,0.48,0.64,0.72,0.8] = \\bar{k} $\n",
        "\n",
        "$ tanh(r) cos^2(2 \\theta ') = \\bar{k}$\n",
        "\n",
        "$ \\theta ' = (\\cos^{-1} {\\sqrt{\\frac{k[i]}{tanh(r)}}} )/ 2$"
      ],
      "metadata": {
        "id": "b3qaUQQv4mVR"
      }
    },
    {
      "cell_type": "code",
      "source": [
        "k = [0,0.08,0.16,0.24,0.32,0.4,0.48,0.64,0.72,0.8]\n",
        "angles = np.zeros((len(k),1))\n",
        "for i in range(len(k)):\n",
        "  angles[i,0] = np.arccos(np.sqrt(k[i]/np.tanh(r_squeezed))) / 2"
      ],
      "metadata": {
        "id": "Xt9dPIZoPSj9"
      },
      "execution_count": null,
      "outputs": []
    },
    {
      "cell_type": "code",
      "source": [
        "from scipy.stats import median_test\n",
        "def run_circuit(bs_angle,m):\n",
        "  #eng.reset()\n",
        "  program = sf.Program(2)\n",
        "  eng = sf.Engine(backend=\"fock\", backend_options={\"cutoff_dim\": 30})\n",
        "\n",
        "  with program.context as q:\n",
        "    Sgate(r_squeezed,phi_r) | q[0]\n",
        "    # q1 is initialized in a vaccum state by default\n",
        "    BSgate(bs_angle,phi_B) | (q[0], q[1])\n",
        "    MeasureFock(select=m) | q[0]\n",
        "    MeasureFock() | q[1]\n",
        "\n",
        "  #post selection \n",
        "  result = np.zeros((shots,2))\n",
        "  for i in range(len(result)):\n",
        "    out_result = eng.run(program)\n",
        "    result[i,:] = out_result.samples\n",
        "\n",
        "  vector = result[:,1]\n",
        "  final_out = sum(vector) / shots\n",
        "  return final_out"
      ],
      "metadata": {
        "id": "vfFvREi_znAL"
      },
      "execution_count": null,
      "outputs": []
    },
    {
      "cell_type": "code",
      "source": [
        "results = np.empty((shots, 2))\n",
        "m_list =np.zeros((len(k),m_range))\n",
        "# this loops evaluate all angles\n",
        "for m in range(1,m_range+1):\n",
        "  mean_photon_list = []\n",
        "  for j in range(len(k)):\n",
        "    # this loop runs the circuit `num_shots` times\n",
        "    mean_output = run_circuit(angles[j,0],m)\n",
        "    # here you get the maverage for both detectors\n",
        "    mean_photon_list.append(mean_output)\n",
        "    # replace this print statement by any postprocessing you'd to perform\n",
        "  m_list[:,m-1] = mean_photon_list\n",
        "  print(mean_photon_list)"
      ],
      "metadata": {
        "colab": {
          "base_uri": "https://localhost:8080/"
        },
        "id": "rMj05CNM5CQi",
        "outputId": "66f3f727-6c33-4d8e-b10e-13b89f00e868"
      },
      "execution_count": null,
      "outputs": [
        {
          "output_type": "stream",
          "name": "stdout",
          "text": [
            "[1.766857142857143, 1.324, 1.2, 1.1622857142857144, 1.1022857142857143, 1.0822857142857143, 1.0514285714285714, 1.0154285714285713, 1.0085714285714287, 1.0017142857142858]\n",
            "[1.8622857142857143, 0.8948571428571429, 0.6194285714285714, 0.4177142857142857, 0.30457142857142855, 0.19485714285714287, 0.1382857142857143, 0.044, 0.022285714285714287, 0.004]\n",
            "[3.028, 1.9051428571428572, 1.5817142857142856, 1.4257142857142857, 1.3, 1.189142857142857, 1.1222857142857143, 1.0422857142857143, 1.0165714285714287, 1.0074285714285713]\n",
            "[3.7045714285714286, 1.9508571428571428, 1.4034285714285715, 1.0325714285714285, 0.7342857142857143, 0.47485714285714287, 0.36, 0.14342857142857143, 0.05885714285714286, 0.018857142857142857]\n",
            "[4.66, 2.7417142857142855, 2.158857142857143, 1.7982857142857143, 1.5617142857142856, 1.3788571428571428, 1.258857142857143, 1.082857142857143, 1.036, 1.0125714285714287]\n",
            "[5.329714285714286, 3.0062857142857142, 2.241142857142857, 1.6902857142857144, 1.2817142857142858, 0.9342857142857143, 0.6462857142857142, 0.228, 0.112, 0.030857142857142857]\n"
          ]
        }
      ]
    },
    {
      "cell_type": "markdown",
      "source": [
        "$ <n> mean-photon-number $\n",
        "\n",
        "*Why the mean photon number is decreasing over higher θ*"
      ],
      "metadata": {
        "id": "HWFw-7wKhUI7"
      }
    },
    {
      "cell_type": "code",
      "source": [
        "plt.plot(k, m_list[:,0], label = \"m = 1\") #m=1 ,shots=2500\n",
        "plt.plot(k, m_list[:,1], label = \"m = 2\") #m=2 ,shots=2500\n",
        "plt.plot(k, m_list[:,2], label = \"m = 3\") #m=3 ,shots=2500\n",
        "plt.plot(k, m_list[:,3], label = \"m = 4\") #m=4 ,shots=2500\n",
        "plt.plot(k, m_list[:,4], label = \"m = 5\") #m=5 ,shots=2500\n",
        "plt.plot(k, m_list[:,5], label = \"m = 6\") #m=6 ,shots=2500\n",
        "plt.legend()\n",
        "# naming the x axis\n",
        "plt.xlabel(r'$\\lambda cos^2(\\theta)$')\n",
        "# naming the y axis\n",
        "plt.ylabel('mean photon number')\n",
        "plt.axis([0, 1, 0, 6])\n",
        "plt.suptitle('mean photon number as theta increase')\n",
        "plt.show()"
      ],
      "metadata": {
        "colab": {
          "base_uri": "https://localhost:8080/",
          "height": 313
        },
        "id": "MfjwsORTUhjL",
        "outputId": "bfda2d22-b2cd-453f-ad98-aa4e9a79a481"
      },
      "execution_count": null,
      "outputs": [
        {
          "output_type": "display_data",
          "data": {
            "text/plain": [
              "<Figure size 432x288 with 1 Axes>"
            ],
            "image/png": "[encoded data removed]"
          },
          "metadata": {
            "needs_background": "light"
          }
        }
      ]
    },
    {
      "cell_type": "code",
      "source": [],
      "metadata": {
        "id": "ep9pHR5AiIiQ"
      },
      "execution_count": null,
      "outputs": []
    }
  ]
}