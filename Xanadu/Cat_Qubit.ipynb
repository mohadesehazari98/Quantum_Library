{
  "nbformat": 4,
  "nbformat_minor": 0,
  "metadata": {
    "colab": {
      "provenance": [],
      "authorship_tag": "ABX9TyMuJxqNEKEBNNtAIpQ2LqU0",
      "include_colab_link": true
    },
    "kernelspec": {
      "name": "python3",
      "display_name": "Python 3"
    },
    "language_info": {
      "name": "python"
    }
  },
  "cells": [
    {
      "cell_type": "markdown",
      "metadata": {
        "id": "view-in-github",
        "colab_type": "text"
      },
      "source": [
        "<a href=\"https://colab.research.google.com/github/mohadesehazari98/Quantum_Library/blob/main/Xanadu/Cat_Qubit.ipynb\" target=\"_parent\"><img src=\"https://colab.research.google.com/assets/colab-badge.svg\" alt=\"Open In Colab\"/></a>"
      ]
    },
    {
      "cell_type": "code",
      "source": [
        "#...Installation...#\n",
        "!pip install strawberryfields --upgrade"
      ],
      "metadata": {
        "id": "eK-xlPzrr22B"
      },
      "execution_count": null,
      "outputs": []
    },
    {
      "cell_type": "code",
      "source": [
        "#...IMPORTING LIBRARIES...#\n",
        "\n",
        "import numpy as np\n",
        "import strawberryfields as sf \n",
        "from strawberryfields.ops import *\n",
        "from strawberryfields.apps import sample\n",
        "import matplotlib.pyplot as plt\n",
        "from mpl_toolkits.mplot3d import Axes3D"
      ],
      "metadata": {
        "id": "THHarpoPVz31"
      },
      "execution_count": 2,
      "outputs": []
    },
    {
      "cell_type": "markdown",
      "source": [
        "In the paper [Reference](https://journals.aps.org/pra/pdf/10.1103/PhysRevA.68.042319?casa_token=u1SaMhcSnmwAAAAA%3AiabyBitCd4es2kv31DOh7UtyfuQPaa26Azf0_p7omlioX0ANoqikg5WLSZdW0IXTrJ6dMt0kKMU-) the squeezed state is represented as:\n",
        "$ Psi $   \n",
        "we can have a corespondance between Landa and r which is $ \\lambda = - e^{i\\phi} tanh(r) $\n",
        "\n",
        "lets first calculate the Mean Photon number for  $\\lambda cos^2(\\theta) = 0.4 $"
      ],
      "metadata": {
        "id": "pxboinzY0aKX"
      }
    },
    {
      "cell_type": "code",
      "source": [
        "#...SEED...#\n",
        "np.random.seed(42)\n",
        "phi_r = (np.pi)\n",
        "phi_B = (np.pi)/2\n",
        "r_squeezed = 1.5\n",
        "k = 0.268530\n",
        "theta = k * (np.pi)/2\n",
        "shots = 2500\n",
        "modes_N = 2"
      ],
      "metadata": {
        "id": "F7ac9YlMwx-l"
      },
      "execution_count": 3,
      "outputs": []
    },
    {
      "cell_type": "code",
      "source": [
        "#...TOKEN KEY...#\n",
        "\n",
        "import xcc\n",
        "settings = xcc.Settings(REFRESH_TOKEN=\"eyJhbGciOiJIUzI1NiIsInR5cCIgOiAiSldUIiwia2lkIiA6ICIwYTdjOGE5Yi1lMzdkLTQ0MzItOTU2OC0xNzI3YzEwNmYyMzEifQ.eyJpYXQiOjE2NjgzMDQzNDQsImp0aSI6IjllY2E5MzczLTRkZDQtNGVmNy1iYmE4LTU5NmNhMzNhNWUyMyIsImlzcyI6Imh0dHBzOi8vcGxhdGZvcm0ueGFuYWR1LmFpL2F1dGgvcmVhbG1zL3BsYXRmb3JtIiwiYXVkIjoiaHR0cHM6Ly9wbGF0Zm9ybS54YW5hZHUuYWkvYXV0aC9yZWFsbXMvcGxhdGZvcm0iLCJzdWIiOiI5YjVhYTExYS03NWY4LTQ0YTItYjkwZS1lZmRlZmM0YmRkOTciLCJ0eXAiOiJPZmZsaW5lIiwiYXpwIjoicHVibGljIiwic2Vzc2lvbl9zdGF0ZSI6IjIzMDBjOTE5LTRhNmYtNGI0ZC05ZTBmLTlkMmNmMTdlNmU4OSIsInNjb3BlIjoicHVibGljLXJvbGVzIHByb2ZpbGUgZW1haWwgb2ZmbGluZV9hY2Nlc3MiLCJzaWQiOiIyMzAwYzkxOS00YTZmLTRiNGQtOWUwZi05ZDJjZjE3ZTZlODkifQ.2MKFiX-Ranfnzo3xQezaGLao6wYVzNOxyiIKrtn50Mc\")\n",
        "settings.save()"
      ],
      "metadata": {
        "id": "crJvPxtmWRfz"
      },
      "execution_count": 4,
      "outputs": []
    },
    {
      "cell_type": "code",
      "source": [
        "#...SETTING THE CIRCUIT/PROGRAM...#\n",
        "\n",
        "program = sf.Program(modes_N)"
      ],
      "metadata": {
        "id": "Og6CbAzfWVSf"
      },
      "execution_count": 5,
      "outputs": []
    },
    {
      "cell_type": "code",
      "source": [
        "eng = sf.Engine(backend=\"fock\", backend_options={\"cutoff_dim\": 7})\n",
        "with program.context as q:\n",
        "\n",
        "  Sgate(r_squeezed,phi_r) | q[0]\n",
        "  Vac | q[1]\n",
        "  BSgate(theta,phi_B) | (q[0], q[1])\n",
        "\n",
        "  MeasureFock() | q[0]\n",
        "  MeasureFock() | q[1]  "
      ],
      "metadata": {
        "id": "qd7L6clHWoMe"
      },
      "execution_count": 6,
      "outputs": []
    },
    {
      "cell_type": "code",
      "source": [
        "#post selection \n",
        "m = [0, 1, 2, 3, 4, 5]\n",
        "Len_m = len(m)\n",
        "result = np.zeros((shots,2))\n",
        "Photon_Number = np.zeros((1,2))\n",
        "for i in range(len(result)):\n",
        "  out_result = eng.run(program)\n",
        "  result[i,:] = out_result.samples\n",
        "\n",
        "\n",
        "for i in range(len(result)):\n",
        "  j = result[i,0]\n",
        "  k = result[i,1]\n",
        "  flag = 0\n",
        "  for w in range(len(Photon_Number)):\n",
        "    if j == Photon_Number[w,0]:\n",
        "      Photon_Number[w,1] = Photon_Number[w,1] + k\n",
        "      flag = 1\n",
        "  if flag == 0:\n",
        "    Photon_Number = np.vstack([Photon_Number, result[i,:]])\n",
        "\n",
        "Mean_Photon_Number = Photon_Number[:,1] / shots"
      ],
      "metadata": {
        "id": "Ux6nm0Njs6-u"
      },
      "execution_count": 7,
      "outputs": []
    },
    {
      "cell_type": "markdown",
      "source": [
        "for $\\lambda cos^2(\\theta) = 0.4 $ and $ m = [0,1,2,3,4,5]$"
      ],
      "metadata": {
        "id": "4MMgDMgz3LXF"
      }
    },
    {
      "cell_type": "code",
      "source": [
        "plt.plot(Photon_Number[:,0], Mean_Photon_Number, 'ro')\n",
        "plt.axis([0, 8, 0, 0.1])\n",
        "plt.suptitle('Mean_Photon_Number')\n",
        "plt.show()\n"
      ],
      "metadata": {
        "id": "ObTnylNemY_-",
        "colab": {
          "base_uri": "https://localhost:8080/",
          "height": 294
        },
        "outputId": "4be8f079-4902-4832-9628-e7cea33cd446"
      },
      "execution_count": 8,
      "outputs": [
        {
          "output_type": "display_data",
          "data": {
            "text/plain": [
              "<Figure size 432x288 with 1 Axes>"
            ],
            "image/png": "[encoded data removed]"
          },
          "metadata": {
            "needs_background": "light"
          }
        }
      ]
    },
    {
      "cell_type": "markdown",
      "source": [
        "Now we would set m to be \"0\" and plot the Mean_Photon_Number for differet $\\theta$\n",
        "\n",
        "$ \\lambda cos^2(\\theta) = [0,0.08,0.16,0.24,0.32,0.4,0.48,0.64,0.72,0.8] $"
      ],
      "metadata": {
        "id": "b3qaUQQv4mVR"
      }
    },
    {
      "cell_type": "code",
      "source": [
        "k = [0,0.08,0.16,0.24,0.32,0.4,0.48,0.64,0.72,0.8]\n",
        "t = np.zeros((len(k),1))\n",
        "for i in range(len(k)):\n",
        "  t[i,0] = np.arccos(np.sqrt(k[i]/np.tanh(r_squeezed))) / 2"
      ],
      "metadata": {
        "id": "Xt9dPIZoPSj9"
      },
      "execution_count": 6,
      "outputs": []
    },
    {
      "cell_type": "code",
      "source": [
        "teta = t[9,0]\n",
        "print(teta)\n"
      ],
      "metadata": {
        "colab": {
          "base_uri": "https://localhost:8080/"
        },
        "id": "qp2r_JhmTNkj",
        "outputId": "79457244-23c2-43cb-bb91-38fc2020a747"
      },
      "execution_count": 7,
      "outputs": [
        {
          "output_type": "stream",
          "name": "stdout",
          "text": [
            "0.17390121071207526\n"
          ]
        }
      ]
    },
    {
      "cell_type": "code",
      "source": [
        "eng = sf.Engine(backend=\"fock\", backend_options={\"cutoff_dim\": 7})\n",
        "with program.context as q:\n",
        "\n",
        "  Sgate(r_squeezed,phi_r) | q[0]\n",
        "  Vac | q[1]\n",
        "  BSgate(teta,phi_B) | (q[0], q[1])\n",
        "\n",
        "  MeasureFock(select=0) | q[0]\n",
        "  MeasureFock() | q[1] "
      ],
      "metadata": {
        "id": "LpgEuVMvTgSs"
      },
      "execution_count": 8,
      "outputs": []
    },
    {
      "cell_type": "code",
      "source": [
        "#post selection \n",
        "m = 0\n",
        "result = np.zeros((shots,2))\n",
        "for i in range(len(result)):\n",
        "  out_result = eng.run(program)\n",
        "  result[i,:] = out_result.samples\n",
        "\n",
        "mean_photon = sum(result[:,1]) / shots"
      ],
      "metadata": {
        "id": "VjCt0IG1McS9"
      },
      "execution_count": null,
      "outputs": []
    },
    {
      "cell_type": "markdown",
      "source": [
        "I had to run this section 10 times and write down the values of $ <n> mean-photon-number $"
      ],
      "metadata": {
        "id": "HWFw-7wKhUI7"
      }
    },
    {
      "cell_type": "code",
      "source": [
        "Mean_Phton_NumbeR = [0.2576, 0.1176, 0.0768, 0.052, 0.04, 0.02, 0.0144, 0.0032, 0.0016, 0.0008]\n",
        "\n",
        "plt.plot(k, Mean_Phton_NumbeR, 'b*')\n",
        "plt.axis([0, 1, 0, 0.3])\n",
        "plt.suptitle('Mean_Photon_Number')\n",
        "plt.show()"
      ],
      "metadata": {
        "colab": {
          "base_uri": "https://localhost:8080/",
          "height": 294
        },
        "id": "MfjwsORTUhjL",
        "outputId": "88e7fbbc-569d-4240-93e3-afcbc4c801e5"
      },
      "execution_count": 13,
      "outputs": [
        {
          "output_type": "display_data",
          "data": {
            "text/plain": [
              "<Figure size 432x288 with 1 Axes>"
            ],
            "image/png": "[encoded data removed]"
          },
          "metadata": {
            "needs_background": "light"
          }
        }
      ]
    },
    {
      "cell_type": "code",
      "source": [],
      "metadata": {
        "id": "ep9pHR5AiIiQ"
      },
      "execution_count": null,
      "outputs": []
    }
  ]
}