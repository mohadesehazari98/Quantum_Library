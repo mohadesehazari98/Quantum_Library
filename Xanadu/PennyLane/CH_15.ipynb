{
 "cells": [
  {
   "cell_type": "code",
   "execution_count": 1,
   "id": "f1b02990-b374-41ac-b777-2de4a66f7040",
   "metadata": {},
   "outputs": [],
   "source": [
    "import functools\n",
    "import json\n",
    "import math\n",
    "import pandas as pd\n",
    "import pennylane as qml\n",
    "import pennylane.numpy as np\n",
    "import scipy"
   ]
  },
  {
   "cell_type": "code",
   "execution_count": 2,
   "id": "bfbdb8c6-4db5-474c-9caa-73997c4c1a0c",
   "metadata": {},
   "outputs": [],
   "source": [
    "@qml.qfunc_transform\n",
    "def rotate_rots(tape, params):\n",
    "    for op in tape.operations + tape.measurements:\n",
    "        if op.name == \"RX\":\n",
    "            if list(op.wires) == [0]:\n",
    "                qml.RX(op.parameters[0] + params[0], wires=op.wires)\n",
    "            else:\n",
    "                qml.RX(op.parameters[0] + params[1], wires=op.wires)\n",
    "        elif op.name == \"RY\":\n",
    "            if list(op.wires) == [0]:\n",
    "                qml.RY(op.parameters[0] + params[2], wires=op.wires)\n",
    "            else:\n",
    "                qml.RY(op.parameters[0] + params[3], wires=op.wires)\n",
    "        elif op.name == \"RZ\":\n",
    "            if list(op.wires) == [0]:\n",
    "                qml.RZ(op.parameters[0] + params[4], wires=op.wires)\n",
    "            else:\n",
    "                qml.RZ(op.parameters[0] + params[5], wires=op.wires)\n",
    "        else:\n",
    "            qml.apply(op)\n",
    "\n",
    "def circuit():\n",
    "    qml.RX(np.pi / 2, wires=0)\n",
    "    qml.RY(np.pi / 2, wires=0)\n",
    "    qml.RZ(np.pi / 2, wires=0)\n",
    "    qml.RX(np.pi / 2, wires=1)\n",
    "    qml.RY(np.pi / 2, wires=1)\n",
    "    qml.RZ(np.pi / 2, wires=1)"
   ]
  },
  {
   "cell_type": "code",
   "execution_count": 3,
   "id": "89c6cd6e-34c1-40a4-a5a4-677920832652",
   "metadata": {},
   "outputs": [],
   "source": [
    "def optimal_fidelity(target_params, pauli_word):\n",
    "\n",
    "    dev = qml.device(\"default.qubit\", wires=2)\n",
    "\n",
    "    @qml.qnode(dev)\n",
    "    def target_circuit(target_params, pauli_word):\n",
    "        rot_name = 'R' + pauli_word\n",
    "        getattr(qml,rot_name)(phi=target_params[0],wires=0)\n",
    "        qml.CRX(phi=target_params[1],wires=[0,1])\n",
    "        qml.T(wires=0)\n",
    "        qml.S(wires=1)\n",
    "        return qml.state()\n",
    "\n",
    "    param_x = (np.pi)/2\n",
    "    def circuit(param_x):\n",
    "        qml.RX(param_x, wires=0)\n",
    "        qml.RY(param_x, wires=0)\n",
    "        qml.RZ(param_x, wires=0)\n",
    "        qml.RX(param_x, wires=1)\n",
    "        qml.RY(param_x, wires=1)\n",
    "        qml.RZ(param_x, wires=1)\n",
    "\n",
    "    \n",
    "    @qml.qnode(dev)\n",
    "    def rotated_circuit(param_x, transform_weights):\n",
    "\n",
    "        # apply the transform to the ansatz\n",
    "        rotate_rots(transform_weights)(circuit)(param_x)\n",
    "        return qml.state()\n",
    "    \n",
    "    def cost_function(rot_params):\n",
    "        state_0 = target_circuit(target_params, pauli_word)\n",
    "        state_1 = rotated_circuit(param_x, rot_params)\n",
    "        FidelitY = qml.math.fidelity(state_1, state_0)\n",
    "        return FidelitY\n",
    "\n",
    "    opt = qml.GradientDescentOptimizer(stepsize=0.1)\n",
    "    rot_params = np.array([0.19, 0.55, 0.86, 0.5, 0.2, 0.88], requires_grad=True)\n",
    "    max_iterations = 200\n",
    "    \n",
    "    for n in range(max_iterations):\n",
    "        rot_params = opt.step(cost_function, rot_params)\n",
    "    \n",
    "    Max_Fidelity = cost_function(rot_params)\n",
    "    \n",
    "    return Max_Fidelity"
   ]
  },
  {
   "cell_type": "code",
   "execution_count": 4,
   "id": "90854b18-ff0c-4727-8a24-6e1acaacf146",
   "metadata": {},
   "outputs": [],
   "source": [
    "# These functions are responsible for testing the solution.\n",
    "\n",
    "def run(test_case_input: str) -> str:\n",
    "\n",
    "    ins = json.loads(test_case_input)\n",
    "    output = optimal_fidelity(*ins)\n",
    "\n",
    "    return str(output)\n",
    "\n",
    "def check(solution_output: str, expected_output: str) -> None:\n",
    "    \"\"\"\n",
    "    Compare solution with expected.\n",
    "\n",
    "    Args:\n",
    "            solution_output: The output from an evaluated solution. Will be\n",
    "            the same type as returned.\n",
    "            expected_output: The correct result for the test case.\n",
    "\n",
    "    Raises:\n",
    "            ``AssertionError`` if the solution output is incorrect in any way.\n",
    "    \"\"\"\n",
    "\n",
    "    solution_output = json.loads(solution_output)\n",
    "    expected_output = json.loads(expected_output)\n",
    "    assert np.allclose(\n",
    "        solution_output, expected_output, rtol=1e-2\n",
    "    ), \"Your calculated optimal fidelity isn't quite right.\""
   ]
  },
  {
   "cell_type": "code",
   "execution_count": 5,
   "id": "280dd476-b6bf-416f-b55b-030b47feed14",
   "metadata": {},
   "outputs": [],
   "source": [
    "test_cases = [['[[1.6,0.9],\"X\"]', '0.9502'], ['[[0.4,0.5],\"Y\"]', '0.9977']]"
   ]
  },
  {
   "cell_type": "code",
   "execution_count": 6,
   "id": "a9f800e8-6117-4456-9939-a98694877a4c",
   "metadata": {},
   "outputs": [
    {
     "name": "stdout",
     "output_type": "stream",
     "text": [
      "Running test case 0 with input '[[1.6,0.9],\"X\"]'...\n",
      "Correct!\n",
      "Running test case 1 with input '[[0.4,0.5],\"Y\"]'...\n",
      "Correct!\n"
     ]
    }
   ],
   "source": [
    "for i, (input_, expected_output) in enumerate(test_cases):\n",
    "    print(f\"Running test case {i} with input '{input_}'...\")\n",
    "\n",
    "    try:\n",
    "        output = run(input_)\n",
    "\n",
    "    except Exception as exc:\n",
    "        print(f\"Runtime Error. {exc}\")\n",
    "\n",
    "    else:\n",
    "        if message := check(output, expected_output):\n",
    "            print(f\"Wrong Answer. Have: '{output}'. Want: '{expected_output}'.\")\n",
    "\n",
    "        else:\n",
    "            print(\"Correct!\")"
   ]
  },
  {
   "cell_type": "code",
   "execution_count": null,
   "id": "7a244ba3-68d0-454e-9b6a-01f87e8c3e82",
   "metadata": {},
   "outputs": [],
   "source": []
  }
 ],
 "metadata": {
  "kernelspec": {
   "display_name": "PennyLane",
   "language": "python",
   "name": "pennylane"
  },
  "language_info": {
   "codemirror_mode": {
    "name": "ipython",
    "version": 3
   },
   "file_extension": ".py",
   "mimetype": "text/x-python",
   "name": "python",
   "nbconvert_exporter": "python",
   "pygments_lexer": "ipython3",
   "version": "3.9.13"
  }
 },
 "nbformat": 4,
 "nbformat_minor": 5
}
