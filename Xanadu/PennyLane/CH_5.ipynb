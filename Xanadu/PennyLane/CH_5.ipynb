{
 "cells": [
  {
   "cell_type": "code",
   "execution_count": 1,
   "id": "4044d56f-b55a-42d7-939f-ba64f9810982",
   "metadata": {},
   "outputs": [],
   "source": [
    "import functools\n",
    "import json\n",
    "import math\n",
    "import pandas as pd\n",
    "import pennylane as qml\n",
    "import pennylane.numpy as np\n",
    "import scipy"
   ]
  },
  {
   "cell_type": "code",
   "execution_count": 2,
   "id": "8db37070-3d2a-48d8-9245-fd5c9d355f4b",
   "metadata": {},
   "outputs": [],
   "source": [
    "def circuit(circuit_param):\n",
    "    qml.RY(circuit_param, wires=0)\n",
    "    qml.Hadamard(wires=0)\n",
    "    qml.T(wires=0)"
   ]
  },
  {
   "cell_type": "code",
   "execution_count": 3,
   "id": "5c66a988-a53a-4721-bc8b-f4ab939d6e96",
   "metadata": {},
   "outputs": [],
   "source": [
    "def state_purity(angle, phase, circuit_param, noise_param):\n",
    "\n",
    "    def noise(Beta):\n",
    "        qml.CRX(Beta ,wires=(0,1))\n",
    "        qml.CNOT(wires=(1,0))\n",
    "        \n",
    "    dev = qml.device(\"default.mixed\", wires=2)\n",
    "    @qml.qnode(dev)\n",
    "    \n",
    "    def noisy_circuit(angle, phase, circuit_param, noise_param):\n",
    "\n",
    "        phi = phase \n",
    "        theta = (-2) * angle\n",
    "        omega = (-1) * phase\n",
    "        alpha = circuit_param\n",
    "        beta = noise_param #parameters\n",
    "        \n",
    "        qml.Rot(phi, theta, omega, wires=0) #state has been prepared \n",
    "        \n",
    "        qml.RY(alpha, wires=0)\n",
    "        noise(beta)\n",
    "        qml.Hadamard(wires=0)\n",
    "        noise(beta)\n",
    "        qml.T(wires=0)\n",
    "        noise(beta)\n",
    "        \n",
    "        r_x = qml.expval(qml.PauliX(0)) #expectation value\n",
    "        r_y = qml.expval(qml.PauliY(0))\n",
    "        r_z = qml.expval(qml.PauliZ(0))\n",
    "        \n",
    "        return (r_x,r_y,r_z)\n",
    "    \n",
    "    R = noisy_circuit(angle, phase, circuit_param, noise_param)\n",
    "    R_2 = (R ** 2) \n",
    "    A_2 = sum(R_2)\n",
    "    Purity = (1 + A_2) / 2\n",
    "    \n",
    "    return  Purity"
   ]
  },
  {
   "cell_type": "code",
   "execution_count": 4,
   "id": "fd44cbb7-e5cb-4e46-b125-c76834f95337",
   "metadata": {},
   "outputs": [],
   "source": [
    "# These functions are responsible for testing the solution.\n",
    "\n",
    "def run(test_case_input: str) -> str:\n",
    "\n",
    "    ins = json.loads(test_case_input)\n",
    "    output = state_purity(*ins)\n",
    "\n",
    "    return str(np.real_if_close(output))\n",
    "\n",
    "def check(solution_output: str, expected_output: str) -> None:\n",
    "    \"\"\"\n",
    "    Compare solution with expected.\n",
    "\n",
    "    Args:\n",
    "            solution_output: The output from an evaluated solution. Will be\n",
    "            the same type as returned.\n",
    "            expected_output: The correct result for the test case.\n",
    "\n",
    "    Raises:\n",
    "            ``AssertionError`` if the solution output is incorrect in any way.\n",
    "    \"\"\"\n",
    "\n",
    "    solution_output = json.loads(solution_output)\n",
    "    expected_output = json.loads(expected_output)\n",
    "    assert np.allclose(\n",
    "        solution_output, expected_output, rtol=1e-2\n",
    "    ), \"Your calculated purity isn't quite right.\""
   ]
  },
  {
   "cell_type": "code",
   "execution_count": 5,
   "id": "32202a0a-cdb0-4682-8f71-da10a045290d",
   "metadata": {},
   "outputs": [],
   "source": [
    "test_cases = [['[0.1,0.2,0.3,0.4]', '0.9647'], ['[0.5,0.3,0.5,0.7]', '0.928356']]"
   ]
  },
  {
   "cell_type": "code",
   "execution_count": 6,
   "id": "fb450c25-72e0-481e-9fa4-f2f9bee94bce",
   "metadata": {},
   "outputs": [
    {
     "name": "stdout",
     "output_type": "stream",
     "text": [
      "Running test case 0 with input '[0.1,0.2,0.3,0.4]'...\n",
      "Correct!\n",
      "Running test case 1 with input '[0.5,0.3,0.5,0.7]'...\n",
      "Correct!\n"
     ]
    }
   ],
   "source": [
    "for i, (input_, expected_output) in enumerate(test_cases):\n",
    "    print(f\"Running test case {i} with input '{input_}'...\")\n",
    "\n",
    "    try:\n",
    "        output = run(input_)\n",
    "\n",
    "    except Exception as exc:\n",
    "        print(f\"Runtime Error. {exc}\")\n",
    "\n",
    "    else:\n",
    "        if message := check(output, expected_output):\n",
    "            print(f\"Wrong Answer. Have: '{output}'. Want: '{expected_output}'.\")\n",
    "\n",
    "        else:\n",
    "            print(\"Correct!\")"
   ]
  },
  {
   "cell_type": "code",
   "execution_count": null,
   "id": "320750e7-3d28-42ce-8c34-0a19c418d900",
   "metadata": {},
   "outputs": [],
   "source": []
  }
 ],
 "metadata": {
  "kernelspec": {
   "display_name": "PennyLane",
   "language": "python",
   "name": "pennylane"
  },
  "language_info": {
   "codemirror_mode": {
    "name": "ipython",
    "version": 3
   },
   "file_extension": ".py",
   "mimetype": "text/x-python",
   "name": "python",
   "nbconvert_exporter": "python",
   "pygments_lexer": "ipython3",
   "version": "3.9.13"
  }
 },
 "nbformat": 4,
 "nbformat_minor": 5
}
