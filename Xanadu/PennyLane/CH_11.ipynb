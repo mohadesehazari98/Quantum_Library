{
 "cells": [
  {
   "cell_type": "code",
   "execution_count": 1,
   "id": "0fa6968e-990a-4b7a-9efd-c5c659e4a644",
   "metadata": {},
   "outputs": [],
   "source": [
    "import functools\n",
    "import json\n",
    "import math\n",
    "import pandas as pd\n",
    "import pennylane as qml\n",
    "import pennylane.numpy as np\n",
    "import scipy"
   ]
  },
  {
   "cell_type": "code",
   "execution_count": 2,
   "id": "336048bb-1538-40e9-aa0e-95be681f0360",
   "metadata": {},
   "outputs": [],
   "source": [
    "def circuit():\n",
    "    \n",
    "    \n",
    "    #hadamard wire 1\n",
    "    qml.U3(0, (np.pi)/4, (np.pi)/4, wires=1)\n",
    "    qml.U3((np.pi)/2, -(np.pi)/2, (np.pi)/2, wires=1)\n",
    "    qml.U3(0, (np.pi)/4, (np.pi)/4, wires=1)\n",
    "    \n",
    "    #cnot wire 0/1\n",
    "    qml.CNOT(wires=(0,1))\n",
    "    \n",
    "    #hadamard wire 1\n",
    "    qml.U3(0, (np.pi)/4, (np.pi)/4, wires=1)\n",
    "    qml.U3((np.pi)/2, -(np.pi)/2, (np.pi)/2, wires=1)\n",
    "    qml.U3(0, (np.pi)/4, (np.pi)/4, wires=1)\n",
    "    \n",
    "    #z\n",
    "    qml.U3(0, (np.pi)/2, (np.pi)/2, wires=0)\n",
    "    \n",
    "    #hadamard wire 2\n",
    "    qml.U3(0, (np.pi)/4, (np.pi)/4, wires=2)\n",
    "    qml.U3((np.pi)/2, -(np.pi)/2, (np.pi)/2, wires=2)\n",
    "    qml.U3(0, (np.pi)/4, (np.pi)/4, wires=2)\n",
    "    "
   ]
  },
  {
   "cell_type": "code",
   "execution_count": 3,
   "id": "dbcd03f1-2733-4f23-88b3-b1296c8f72c9",
   "metadata": {},
   "outputs": [
    {
     "data": {
      "text/plain": [
       "array([[ 7.07106781e-01-4.32978028e-17j,  7.07106781e-01-1.29893408e-16j,\n",
       "         0.00000000e+00+0.00000000e+00j,  0.00000000e+00+0.00000000e+00j,\n",
       "         0.00000000e+00+4.32978028e-17j,  5.30245156e-33+4.32978028e-17j,\n",
       "         0.00000000e+00+0.00000000e+00j,  0.00000000e+00+0.00000000e+00j],\n",
       "       [ 7.07106781e-01-4.32978028e-17j, -7.07106781e-01+1.29893408e-16j,\n",
       "         0.00000000e+00+0.00000000e+00j,  0.00000000e+00+0.00000000e+00j,\n",
       "         0.00000000e+00+4.32978028e-17j, -5.30245156e-33-4.32978028e-17j,\n",
       "         0.00000000e+00+0.00000000e+00j,  0.00000000e+00+0.00000000e+00j],\n",
       "       [ 0.00000000e+00+0.00000000e+00j,  0.00000000e+00+0.00000000e+00j,\n",
       "        -7.07106781e-01+1.29893408e-16j, -7.07106781e-01+2.16489014e-16j,\n",
       "         0.00000000e+00+0.00000000e+00j,  0.00000000e+00+0.00000000e+00j,\n",
       "         7.85046229e-17+4.32978028e-17j,  7.85046229e-17+4.32978028e-17j],\n",
       "       [ 0.00000000e+00+0.00000000e+00j,  0.00000000e+00+0.00000000e+00j,\n",
       "        -7.07106781e-01+1.29893408e-16j,  7.07106781e-01-2.16489014e-16j,\n",
       "         0.00000000e+00+0.00000000e+00j,  0.00000000e+00+0.00000000e+00j,\n",
       "         7.85046229e-17+4.32978028e-17j, -7.85046229e-17-4.32978028e-17j],\n",
       "       [ 2.65122578e-33+4.32978028e-17j,  7.95367734e-33+4.32978028e-17j,\n",
       "         0.00000000e+00+0.00000000e+00j,  0.00000000e+00+0.00000000e+00j,\n",
       "         7.07106781e-01-1.29893408e-16j,  7.07106781e-01-2.16489014e-16j,\n",
       "         0.00000000e+00+0.00000000e+00j,  0.00000000e+00+0.00000000e+00j],\n",
       "       [ 2.65122578e-33+4.32978028e-17j, -7.95367734e-33-4.32978028e-17j,\n",
       "         0.00000000e+00+0.00000000e+00j,  0.00000000e+00+0.00000000e+00j,\n",
       "         7.07106781e-01-1.29893408e-16j, -7.07106781e-01+2.16489014e-16j,\n",
       "         0.00000000e+00+0.00000000e+00j,  0.00000000e+00+0.00000000e+00j],\n",
       "       [ 0.00000000e+00+0.00000000e+00j,  0.00000000e+00+0.00000000e+00j,\n",
       "         7.85046229e-17-4.32978028e-17j,  7.85046229e-17-4.32978028e-17j,\n",
       "         0.00000000e+00+0.00000000e+00j,  0.00000000e+00+0.00000000e+00j,\n",
       "         7.07106781e-01-2.16489014e-16j,  7.07106781e-01-3.03084620e-16j],\n",
       "       [ 0.00000000e+00+0.00000000e+00j,  0.00000000e+00+0.00000000e+00j,\n",
       "         7.85046229e-17-4.32978028e-17j, -7.85046229e-17+4.32978028e-17j,\n",
       "         0.00000000e+00+0.00000000e+00j,  0.00000000e+00+0.00000000e+00j,\n",
       "         7.07106781e-01-2.16489014e-16j, -7.07106781e-01+3.03084620e-16j]])"
      ]
     },
     "execution_count": 3,
     "metadata": {},
     "output_type": "execute_result"
    }
   ],
   "source": [
    "qml.matrix(circuit)()"
   ]
  },
  {
   "cell_type": "code",
   "execution_count": 4,
   "id": "42cb954e-9cd5-4cfa-b1dc-5794449540e7",
   "metadata": {},
   "outputs": [],
   "source": [
    "# These functions are responsible for testing the solution.\n",
    "\n",
    "def run(input: str) -> str:\n",
    "    matrix = qml.matrix(circuit)().real\n",
    "\n",
    "    with qml.tape.QuantumTape() as tape:\n",
    "        circuit()\n",
    "\n",
    "    names = [op.name for op in tape.operations]\n",
    "    return json.dumps({\"matrix\": matrix.tolist(), \"gates\": names})\n",
    "\n",
    "def check(user_output: str, expected_output: str) -> str:\n",
    "    parsed_output = json.loads(user_output)\n",
    "    matrix_user = np.array(parsed_output[\"matrix\"])\n",
    "    gates = parsed_output[\"gates\"]\n",
    "\n",
    "    solution = (\n",
    "        1\n",
    "        / np.sqrt(2)\n",
    "        * np.array(\n",
    "            [\n",
    "                [1, 1, 0, 0, 0, 0, 0, 0],\n",
    "                [1, -1, 0, 0, 0, 0, 0, 0],\n",
    "                [0, 0, -1, -1, 0, 0, 0, 0],\n",
    "                [0, 0, -1, 1, 0, 0, 0, 0],\n",
    "                [0, 0, 0, 0, 1, 1, 0, 0],\n",
    "                [0, 0, 0, 0, 1, -1, 0, 0],\n",
    "                [0, 0, 0, 0, 0, 0, 1, 1],\n",
    "                [0, 0, 0, 0, 0, 0, 1, -1],\n",
    "            ]\n",
    "        )\n",
    "    )\n",
    "\n",
    "    assert np.allclose(matrix_user, solution)\n",
    "    assert len(set(gates)) == 2 and \"U3\" in gates and \"CNOT\" in gates"
   ]
  },
  {
   "cell_type": "code",
   "execution_count": 5,
   "id": "6d3597c7-3843-4ea7-96ba-4702750d12d3",
   "metadata": {},
   "outputs": [],
   "source": [
    "test_cases = [['No input', 'No output']]"
   ]
  },
  {
   "cell_type": "code",
   "execution_count": 6,
   "id": "f0eed6c3-5ac9-4745-b6d2-0fcdbbcf5eb3",
   "metadata": {},
   "outputs": [
    {
     "name": "stdout",
     "output_type": "stream",
     "text": [
      "Running test case 0 with input 'No input'...\n",
      "Correct!\n"
     ]
    }
   ],
   "source": [
    "for i, (input_, expected_output) in enumerate(test_cases):\n",
    "    print(f\"Running test case {i} with input '{input_}'...\")\n",
    "\n",
    "    try:\n",
    "        output = run(input_)\n",
    "\n",
    "    except Exception as exc:\n",
    "        print(f\"Runtime Error. {exc}\")\n",
    "\n",
    "    else:\n",
    "        if message := check(output, expected_output):\n",
    "            print(f\"Wrong Answer. Have: '{output}'. Want: '{expected_output}'.\")\n",
    "\n",
    "        else:\n",
    "            print(\"Correct!\")"
   ]
  },
  {
   "cell_type": "code",
   "execution_count": null,
   "id": "1228c6e8-a22c-43c8-a17a-6c518d4e31e8",
   "metadata": {},
   "outputs": [],
   "source": []
  }
 ],
 "metadata": {
  "kernelspec": {
   "display_name": "PennyLane",
   "language": "python",
   "name": "pennylane"
  },
  "language_info": {
   "codemirror_mode": {
    "name": "ipython",
    "version": 3
   },
   "file_extension": ".py",
   "mimetype": "text/x-python",
   "name": "python",
   "nbconvert_exporter": "python",
   "pygments_lexer": "ipython3",
   "version": "3.9.13"
  }
 },
 "nbformat": 4,
 "nbformat_minor": 5
}
