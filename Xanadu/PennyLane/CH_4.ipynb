{
 "cells": [
  {
   "cell_type": "code",
   "execution_count": 1,
   "id": "d0e4fbdb-4f6c-4f8f-ab4c-2ae4b237382a",
   "metadata": {},
   "outputs": [],
   "source": [
    "import functools\n",
    "import json\n",
    "import math\n",
    "import pandas as pd\n",
    "import pennylane as qml\n",
    "import pennylane.numpy as np\n",
    "import scipy"
   ]
  },
  {
   "cell_type": "code",
   "execution_count": 2,
   "id": "9a73d807-f262-41b8-95a0-7dd078209809",
   "metadata": {},
   "outputs": [],
   "source": [
    "dev = qml.device(\"default.qubit\", wires=2)\n",
    "\n",
    "@qml.qnode(dev)\n",
    "def circuit(params):\n",
    "    #f(Theta_bar)\n",
    "    qml.RY(params[0], 0)\n",
    "    qml.RX(params[1], 1)\n",
    "    return qml.expval(qml.PauliZ(0) + qml.PauliZ(1))"
   ]
  },
  {
   "cell_type": "code",
   "execution_count": 3,
   "id": "2bafef32-d5b1-472f-92a7-f6a8ef229328",
   "metadata": {},
   "outputs": [],
   "source": [
    "def my_parameter_shift_grad(params, shift):\n",
    "    \"\"\"Your homemade parameter-shift rule function.\n",
    "    \n",
    "    NOTE: you cannot use qml.grad within this function\n",
    "\n",
    "    Args:\n",
    "        params (list(float)): The parameters for gates in the circuit\n",
    "\n",
    "    Returns:\n",
    "        gradient (numpy.array): The gradient of the circuit with respect to the given parameters.\n",
    "    \"\"\"\n",
    "    gradient = np.zeros_like(params)\n",
    "    s = shift\n",
    "    \n",
    "    for i in range(len(params)):\n",
    "        #first we need to make two copies of the parameter list \n",
    "        param_first = np.zeros_like(params)\n",
    "        param_second = np.zeros_like(params)\n",
    "        #now we have to change their values in order to make the (Theta+s) (Theta-s)\n",
    "        for k in  range(len(params)):\n",
    "            if k == i:\n",
    "                param_first[k] = (params[k] + s)\n",
    "                param_second[k] = (params[k] - s)\n",
    "            else:\n",
    "                param_first[k] = params[k] \n",
    "                param_second[k] = params[k]\n",
    "        #now lets calculate the numerator\n",
    "        numerator = (circuit(param_first) - circuit(param_second))\n",
    "        #calculating the denominator\n",
    "        denominator = 2 * np.sin(s)\n",
    "        #final gradient \n",
    "        gradient[i] = numerator / denominator\n",
    "        \n",
    "    return np.round_(gradient, decimals=5).tolist()"
   ]
  },
  {
   "cell_type": "code",
   "execution_count": 4,
   "id": "f9440d55-7f1d-4fe5-9bbe-e77aac4b591b",
   "metadata": {},
   "outputs": [],
   "source": [
    "# These functions are responsible for testing the solution.\n",
    "\n",
    "def run(test_case_input: str) -> str:\n",
    "    params, shift = json.loads(test_case_input)\n",
    "    gradient = my_parameter_shift_grad(params, shift)\n",
    "    return str(gradient)\n",
    "\n",
    "def check(solution_output: str, expected_output: str) -> None:\n",
    "    solution_output = json.loads(solution_output)\n",
    "    expected_output = json.loads(expected_output)\n",
    "    assert np.allclose(\n",
    "        solution_output, expected_output, rtol=1e-4\n",
    "    ), \"Your gradient isn't quite right!\""
   ]
  },
  {
   "cell_type": "code",
   "execution_count": 5,
   "id": "c5d21ea4-0160-47d6-9816-a0bc7d1f9de5",
   "metadata": {},
   "outputs": [],
   "source": [
    "test_cases = [['[[0.75, 1.0], 1.23]', '[-0.68164, -0.84147]']]"
   ]
  },
  {
   "cell_type": "code",
   "execution_count": 6,
   "id": "7b5987da-77f0-412c-8520-6772e5a48b10",
   "metadata": {},
   "outputs": [
    {
     "name": "stdout",
     "output_type": "stream",
     "text": [
      "Running test case 0 with input '[[0.75, 1.0], 1.23]'...\n",
      "Correct!\n"
     ]
    }
   ],
   "source": [
    "for i, (input_, expected_output) in enumerate(test_cases):\n",
    "    print(f\"Running test case {i} with input '{input_}'...\")\n",
    "\n",
    "    try:\n",
    "        output = run(input_)\n",
    "\n",
    "    except Exception as exc:\n",
    "        print(f\"Runtime Error. {exc}\")\n",
    "\n",
    "    else:\n",
    "        if message := check(output, expected_output):\n",
    "            print(f\"Wrong Answer. Have: '{output}'. Want: '{expected_output}'.\")\n",
    "\n",
    "        else:\n",
    "            print(\"Correct!\")"
   ]
  },
  {
   "cell_type": "code",
   "execution_count": null,
   "id": "05e72bd4-b75f-4eff-965e-05283ce7a989",
   "metadata": {},
   "outputs": [],
   "source": []
  }
 ],
 "metadata": {
  "kernelspec": {
   "display_name": "PennyLane",
   "language": "python",
   "name": "pennylane"
  },
  "language_info": {
   "codemirror_mode": {
    "name": "ipython",
    "version": 3
   },
   "file_extension": ".py",
   "mimetype": "text/x-python",
   "name": "python",
   "nbconvert_exporter": "python",
   "pygments_lexer": "ipython3",
   "version": "3.9.13"
  }
 },
 "nbformat": 4,
 "nbformat_minor": 5
}
