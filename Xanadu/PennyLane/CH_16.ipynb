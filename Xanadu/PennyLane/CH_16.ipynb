{
 "cells": [
  {
   "cell_type": "code",
   "execution_count": 1,
   "id": "4f57af90-c624-4109-b587-483d011569e6",
   "metadata": {},
   "outputs": [],
   "source": [
    "import functools\n",
    "import json\n",
    "import math\n",
    "import pandas as pd\n",
    "import pennylane as qml\n",
    "import pennylane.numpy as np\n",
    "import scipy"
   ]
  },
  {
   "cell_type": "code",
   "execution_count": 2,
   "id": "49053307-bcd5-4b8b-be7d-7a3bf329a81b",
   "metadata": {},
   "outputs": [],
   "source": [
    "def sqrt_CNOT():\n",
    "\n",
    "    qml.Hadamard(wires=1)\n",
    "    \n",
    "    qml.T(wires=1)\n",
    "    qml.T(wires=1)\n",
    "    \n",
    "    qml.CNOT(wires=[0,1])\n",
    "    \n",
    "    qml.T(wires=1)\n",
    "    qml.T(wires=1)\n",
    "    qml.T(wires=1)\n",
    "    \n",
    "    qml.CNOT(wires=[0,1])\n",
    "    \n",
    "    qml.T(wires=1)\n",
    "    qml.T(wires=1)\n",
    "    qml.T(wires=1)\n",
    "    \n",
    "    qml.T(wires=0)\n",
    "    qml.T(wires=0)\n",
    "    qml.T(wires=0)\n",
    "    qml.T(wires=0)\n",
    "    qml.T(wires=0)\n",
    "\n",
    "    qml.Hadamard(wires=1)\n",
    "    \n",
    "def U():\n",
    "    sqrt_CNOT()\n",
    "    qml.CNOT(wires=[1,0])\n",
    "   "
   ]
  },
  {
   "cell_type": "code",
   "execution_count": 3,
   "id": "69d29d98-9907-4f85-9c6f-3d1a10ea3ed6",
   "metadata": {},
   "outputs": [],
   "source": [
    "dev = qml.device(\"default.qubit\", wires=2)\n",
    "\n",
    "@qml.qnode(dev)\n",
    "def circuit():\n",
    "    \"\"\"\n",
    "    Main circuit given in the statement, here the operators you have defined in U will be embedded.\n",
    "    \"\"\"\n",
    "\n",
    "    qml.CNOT(wires=[0, 1])\n",
    "\n",
    "    qml.Hadamard(wires=0)\n",
    "    qml.Hadamard(wires=1)\n",
    "\n",
    "    U()\n",
    "\n",
    "    qml.CNOT(wires=[1, 0])\n",
    "\n",
    "    U()\n",
    "\n",
    "    qml.Hadamard(wires=0)\n",
    "    qml.Hadamard(wires=1)\n",
    "\n",
    "    return qml.state()"
   ]
  },
  {
   "cell_type": "code",
   "execution_count": 4,
   "id": "60da3d22-c687-4b40-a5ad-044ccbeda648",
   "metadata": {},
   "outputs": [],
   "source": [
    "# These functions are responsible for testing the solution.\n",
    "\n",
    "def run(input: str) -> str:\n",
    "    matrix = qml.matrix(circuit)().real\n",
    "\n",
    "    with qml.tape.QuantumTape() as tape:\n",
    "        U()\n",
    "\n",
    "    names = [op.name for op in tape.operations]\n",
    "    return json.dumps({\"matrix\": matrix.tolist(), \"gates\": names})\n",
    "\n",
    "def check(user_output: str, expected_output: str) -> str:\n",
    "\n",
    "    parsed_output = json.loads(user_output)\n",
    "    matrix_user = np.array(parsed_output[\"matrix\"])\n",
    "    gates = parsed_output[\"gates\"]\n",
    "\n",
    "    assert np.allclose(matrix_user, qml.matrix(qml.SWAP)(wires=[0, 1]))\n",
    "    assert (\n",
    "        len(set(gates)) == 3\n",
    "        and \"Hadamard\" in gates\n",
    "        and \"CNOT\" in gates\n",
    "        and \"T\" in gates\n",
    "    )"
   ]
  },
  {
   "cell_type": "code",
   "execution_count": 5,
   "id": "58fe3dd0-c474-43f8-b21b-4ffd5da367d0",
   "metadata": {},
   "outputs": [],
   "source": [
    "test_cases = [['No input', 'No output']]"
   ]
  },
  {
   "cell_type": "code",
   "execution_count": 6,
   "id": "8bbca0f0-09a1-422b-8e2a-22ff51c9cf9b",
   "metadata": {},
   "outputs": [
    {
     "name": "stdout",
     "output_type": "stream",
     "text": [
      "Running test case 0 with input 'No input'...\n",
      "Correct!\n"
     ]
    }
   ],
   "source": [
    "for i, (input_, expected_output) in enumerate(test_cases):\n",
    "    print(f\"Running test case {i} with input '{input_}'...\")\n",
    "\n",
    "    try:\n",
    "        output = run(input_)\n",
    "\n",
    "    except Exception as exc:\n",
    "        print(f\"Runtime Error. {exc}\")\n",
    "\n",
    "    else:\n",
    "        if message := check(output, expected_output):\n",
    "            print(f\"Wrong Answer. Have: '{output}'. Want: '{expected_output}'.\")\n",
    "\n",
    "        else:\n",
    "            print(\"Correct!\")"
   ]
  },
  {
   "cell_type": "code",
   "execution_count": null,
   "id": "8b6cdce3-1b72-4090-9312-36b3c75e0b83",
   "metadata": {},
   "outputs": [],
   "source": []
  }
 ],
 "metadata": {
  "kernelspec": {
   "display_name": "PennyLane",
   "language": "python",
   "name": "pennylane"
  },
  "language_info": {
   "codemirror_mode": {
    "name": "ipython",
    "version": 3
   },
   "file_extension": ".py",
   "mimetype": "text/x-python",
   "name": "python",
   "nbconvert_exporter": "python",
   "pygments_lexer": "ipython3",
   "version": "3.9.13"
  }
 },
 "nbformat": 4,
 "nbformat_minor": 5
}
