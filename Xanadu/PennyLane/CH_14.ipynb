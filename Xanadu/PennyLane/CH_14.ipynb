{
 "cells": [
  {
   "cell_type": "code",
   "execution_count": 1,
   "id": "fa5df5f4-447b-4e4a-84de-609e59a6d501",
   "metadata": {},
   "outputs": [],
   "source": [
    "import functools\n",
    "import json\n",
    "import math\n",
    "import pandas as pd\n",
    "import pennylane as qml\n",
    "import pennylane.numpy as np\n",
    "import scipy"
   ]
  },
  {
   "cell_type": "code",
   "execution_count": 2,
   "id": "217d2490-1eca-4d57-9668-411dd0696191",
   "metadata": {},
   "outputs": [],
   "source": [
    "def generator_info(operator):\n",
    "    \"\"\"Provides the generator of a given operator.\n",
    "\n",
    "    Args:\n",
    "        operator (qml.ops): A PennyLane operator\n",
    "\n",
    "    Returns:\n",
    "        (qml.ops): The generator of the operator.\n",
    "        (float): The coefficient of the generator.\n",
    "    \"\"\"\n",
    "    gen = qml.generator(operator, format=\"observable\")\n",
    "    return gen.ops[0], gen.coeffs[0]"
   ]
  },
  {
   "cell_type": "code",
   "execution_count": 3,
   "id": "a921aca0-844c-408f-a595-6fde6a923979",
   "metadata": {},
   "outputs": [],
   "source": [
    "def derivative(op_order, params, diff_idx, wires, measured_wire):\n",
    "\n",
    "    op_dict = {0: qml.RX, 1: qml.RY, 2: qml.RZ}\n",
    "    dev = qml.device(\"default.qubit\", wires=2)\n",
    "\n",
    "    obs = qml.PauliZ(measured_wire)\n",
    "    operator = op_dict[op_order[diff_idx]](params[diff_idx], wires[diff_idx])\n",
    "    gen, coeff = generator_info(operator)\n",
    "\n",
    "    @qml.qnode(dev)\n",
    "    def circuit_bra1():\n",
    "        for i in range(len(op_order)):\n",
    "            if i == diff_idx:\n",
    "                qml.apply(gen)\n",
    "            op_dict[op_order[i]](params[i], wires[i])\n",
    "        return qml.state()\n",
    "\n",
    "    @qml.qnode(dev)\n",
    "    def circuit_ket1():\n",
    "        for i in range(len(op_order)):\n",
    "            op_dict[op_order[i]](params[i], wires[i])\n",
    "        qml.apply(obs)\n",
    "        return qml.state()\n",
    "\n",
    "    @qml.qnode(dev)\n",
    "    def circuit_bra2():\n",
    "        for i in range(len(op_order)):\n",
    "            op_dict[op_order[i]](params[i], wires[i])\n",
    "        qml.apply(obs)\n",
    "        return qml.state()\n",
    "\n",
    "    @qml.qnode(dev)\n",
    "    def circuit_ket2():\n",
    "        for i in range(len(op_order)):\n",
    "            op_dict[op_order[i]](params[i], wires[i])\n",
    "            if i == diff_idx:\n",
    "                qml.apply(gen)\n",
    "        return qml.state()\n",
    "\n",
    "    bra1 = circuit_bra1()\n",
    "    ket1 = circuit_ket1()\n",
    "    bra2 = circuit_bra2()\n",
    "    ket2 = circuit_ket2()\n",
    "\n",
    "    exp = coeff * ( np.vdot(1.j* bra1,ket1) + np.vdot(bra2,1.j*ket2 ) )\n",
    "    exp = np.real(exp)\n",
    "    return  exp"
   ]
  },
  {
   "cell_type": "code",
   "execution_count": 4,
   "id": "5b427214-2adc-4d16-8316-9f189d72b06f",
   "metadata": {},
   "outputs": [],
   "source": [
    "# These functions are responsible for testing the solution.\n",
    "\n",
    "def run(test_case_input: str) -> str:\n",
    "    op_order, params, diff_idx, wires, measured_wire = json.loads(test_case_input)\n",
    "    params = np.array(params, requires_grad=True)\n",
    "    der = derivative(op_order, params, diff_idx, wires, measured_wire)\n",
    "    return str(der)\n",
    "\n",
    "def check(solution_output: str, expected_output: str) -> None:\n",
    "    solution_output = json.loads(solution_output)\n",
    "    expected_output = json.loads(expected_output)\n",
    "    assert np.allclose(\n",
    "        solution_output, expected_output, rtol=1e-4\n",
    "    ), \"Your derivative isn't quite right!\""
   ]
  },
  {
   "cell_type": "code",
   "execution_count": 5,
   "id": "9555e684-a55d-4e56-8ddf-1273767a89f0",
   "metadata": {},
   "outputs": [],
   "source": [
    "test_cases = [['[[1,0,2,1,0,1], [1.23, 4.56, 7.89, 1.23, 4.56, 7.89], 0, [1, 0, 1, 1, 1, 0], 1]', '-0.2840528']]"
   ]
  },
  {
   "cell_type": "code",
   "execution_count": 6,
   "id": "971280e6-bc75-45c5-a033-e8da87895e6c",
   "metadata": {},
   "outputs": [
    {
     "name": "stdout",
     "output_type": "stream",
     "text": [
      "Running test case 0 with input '[[1,0,2,1,0,1], [1.23, 4.56, 7.89, 1.23, 4.56, 7.89], 0, [1, 0, 1, 1, 1, 0], 1]'...\n",
      "Correct!\n"
     ]
    }
   ],
   "source": [
    "for i, (input_, expected_output) in enumerate(test_cases):\n",
    "    print(f\"Running test case {i} with input '{input_}'...\")\n",
    "\n",
    "    try:\n",
    "        output = run(input_)\n",
    "\n",
    "    except Exception as exc:\n",
    "        print(f\"Runtime Error. {exc}\")\n",
    "\n",
    "    else:\n",
    "        if message := check(output, expected_output):\n",
    "            print(f\"Wrong Answer. Have: '{output}'. Want: '{expected_output}'.\")\n",
    "\n",
    "        else:\n",
    "            print(\"Correct!\")"
   ]
  },
  {
   "cell_type": "code",
   "execution_count": null,
   "id": "78b70f09-9471-40b3-a0bd-5ac085bb703f",
   "metadata": {},
   "outputs": [],
   "source": []
  }
 ],
 "metadata": {
  "kernelspec": {
   "display_name": "PennyLane",
   "language": "python",
   "name": "pennylane"
  },
  "language_info": {
   "codemirror_mode": {
    "name": "ipython",
    "version": 3
   },
   "file_extension": ".py",
   "mimetype": "text/x-python",
   "name": "python",
   "nbconvert_exporter": "python",
   "pygments_lexer": "ipython3",
   "version": "3.9.13"
  }
 },
 "nbformat": 4,
 "nbformat_minor": 5
}
