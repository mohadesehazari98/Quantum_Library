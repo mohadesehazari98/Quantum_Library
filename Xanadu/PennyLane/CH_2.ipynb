{
 "cells": [
  {
   "cell_type": "code",
   "execution_count": 1,
   "id": "56c8f680-fb3a-4f63-ab56-01ce59093422",
   "metadata": {},
   "outputs": [],
   "source": [
    "import functools\n",
    "import json\n",
    "import math\n",
    "import pandas as pd\n",
    "import pennylane as qml\n",
    "import pennylane.numpy as np\n",
    "import scipy"
   ]
  },
  {
   "cell_type": "code",
   "execution_count": 2,
   "id": "41236b91-16ae-4ea5-a9d1-ff703f491ede",
   "metadata": {},
   "outputs": [],
   "source": [
    "dev = qml.device(\"default.mixed\", wires=2)\n",
    "\n",
    "@qml.qnode(dev)\n",
    "def circuit():\n",
    "    \"\"\"An error-less quantum circuit.\n",
    "\n",
    "    Returns:\n",
    "        qml.state():\n",
    "            The quantum state.\n",
    "    \"\"\"\n",
    "    qml.Hadamard(wires=0)\n",
    "    qml.CNOT(wires=[0, 1])\n",
    "    return qml.state()"
   ]
  },
  {
   "cell_type": "code",
   "execution_count": 3,
   "id": "5f285445-9d4e-4e14-b35b-5589e23a80b8",
   "metadata": {},
   "outputs": [],
   "source": [
    "@qml.qnode(dev)\n",
    "def bitflip_circuit(p):\n",
    "    \"\"\"A quantum circuit that contains two bitflip errors.\n",
    "    It is the same circuit as the one above, but with bitflip errors.\n",
    "\n",
    "    Args:\n",
    "        p (float):\n",
    "            The bitflip probability.\n",
    "\n",
    "    Returns:\n",
    "        qml.state():\n",
    "            The quantum state.\n",
    "    \"\"\"\n",
    "    qml.Hadamard(wires=0)\n",
    "    qml.CNOT(wires=[0, 1])\n",
    "    qml.BitFlip(p, wires=0)\n",
    "    qml.BitFlip(p, wires=1)\n",
    "\n",
    "    return qml.state()"
   ]
  },
  {
   "cell_type": "code",
   "execution_count": 4,
   "id": "ef8609de-5861-4248-adb9-c2bb20508e96",
   "metadata": {},
   "outputs": [],
   "source": [
    "def fidelities(probs):\n",
    "    fids = np.zeros(len(probs))\n",
    "    for i, p in enumerate(probs):\n",
    "        fid = qml.math.fidelity(bitflip_circuit(p), circuit())\n",
    "        fids[i] = fid\n",
    "    return np.round_(fids, decimals=5).tolist()"
   ]
  },
  {
   "cell_type": "code",
   "execution_count": 5,
   "id": "0f2a0629-9784-4a01-8bf8-1e18131f4889",
   "metadata": {},
   "outputs": [],
   "source": [
    "# These functions are responsible for testing the solution.\n",
    "\n",
    "def run(test_case_input: str) -> str:\n",
    "    probs = json.loads(test_case_input)\n",
    "    fids = fidelities(probs)\n",
    "    return str(fids)\n",
    "\n",
    "def check(solution_output: str, expected_output: str) -> None:\n",
    "    solution_output = json.loads(solution_output)\n",
    "    expected_output = json.loads(expected_output)\n",
    "    assert np.allclose(\n",
    "        solution_output, expected_output, rtol=1e-4\n",
    "    ), \"Your circuit isn't quite right!\""
   ]
  },
  {
   "cell_type": "code",
   "execution_count": 6,
   "id": "c58f0309-cc55-4ac3-8cd7-555680cb2173",
   "metadata": {},
   "outputs": [],
   "source": [
    "test_cases = [['[0.05, 0.1, 0.15, 0.2, 0.25]', '[0.905, 0.82, 0.745, 0.68, 0.625]']]"
   ]
  },
  {
   "cell_type": "code",
   "execution_count": 7,
   "id": "60bd276a-52df-4f06-b856-93ad66f83d72",
   "metadata": {},
   "outputs": [
    {
     "name": "stdout",
     "output_type": "stream",
     "text": [
      "Running test case 0 with input '[0.05, 0.1, 0.15, 0.2, 0.25]'...\n",
      "Correct!\n"
     ]
    }
   ],
   "source": [
    "for i, (input_, expected_output) in enumerate(test_cases):\n",
    "    print(f\"Running test case {i} with input '{input_}'...\")\n",
    "\n",
    "    try:\n",
    "        output = run(input_)\n",
    "\n",
    "    except Exception as exc:\n",
    "        print(f\"Runtime Error. {exc}\")\n",
    "\n",
    "    else:\n",
    "        if message := check(output, expected_output):\n",
    "            print(f\"Wrong Answer. Have: '{output}'. Want: '{expected_output}'.\")\n",
    "\n",
    "        else:\n",
    "            print(\"Correct!\")"
   ]
  },
  {
   "cell_type": "code",
   "execution_count": null,
   "id": "8bc3f907-92c9-4a9f-be13-c3dd85a653fd",
   "metadata": {},
   "outputs": [],
   "source": []
  }
 ],
 "metadata": {
  "kernelspec": {
   "display_name": "PennyLane",
   "language": "python",
   "name": "pennylane"
  },
  "language_info": {
   "codemirror_mode": {
    "name": "ipython",
    "version": 3
   },
   "file_extension": ".py",
   "mimetype": "text/x-python",
   "name": "python",
   "nbconvert_exporter": "python",
   "pygments_lexer": "ipython3",
   "version": "3.9.13"
  }
 },
 "nbformat": 4,
 "nbformat_minor": 5
}
