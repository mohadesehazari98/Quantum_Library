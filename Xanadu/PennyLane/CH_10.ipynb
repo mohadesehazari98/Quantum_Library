{
 "cells": [
  {
   "cell_type": "code",
   "execution_count": 1,
   "id": "7c31d364-bd55-4301-8779-d44a0019bfe7",
   "metadata": {},
   "outputs": [],
   "source": [
    "import functools\n",
    "import json\n",
    "import math\n",
    "import pandas as pd\n",
    "import pennylane as qml\n",
    "import pennylane.numpy as np\n",
    "import scipy"
   ]
  },
  {
   "cell_type": "code",
   "execution_count": 2,
   "id": "c49a43a8-8ed2-411a-9374-b3381250189f",
   "metadata": {},
   "outputs": [],
   "source": [
    "sample = np.array([[0.88645553, 5.84095018],\n",
    "        [1.76306821, 1.28529014],\n",
    "        [2.09187193, 6.06022346],\n",
    "        [2.7455983 , 4.10650061],\n",
    "        [1.156449  , 0.05270523],\n",
    "        [2.41036002, 4.1243531 ],\n",
    "        [1.85975128, 6.06105961],\n",
    "        [1.21447324, 4.50789405],\n",
    "        [2.98670697, 2.76236853],\n",
    "        [0.85240889, 4.25292296],\n",
    "        [2.51060472, 0.16869898],\n",
    "        [1.62333082, 0.1550452 ],\n",
    "        [2.48189743, 3.74707815],\n",
    "        [1.57124183, 4.57583136],\n",
    "        [0.97387373, 5.09057019],\n",
    "        [1.48945306, 1.62557981],\n",
    "        [1.63373765, 4.45798143],\n",
    "        [2.59893856, 1.05395551],\n",
    "        [1.55004825, 3.8295616 ],\n",
    "        [2.53605197, 2.37092827]])"
   ]
  },
  {
   "cell_type": "code",
   "execution_count": 28,
   "id": "aa5a061a-cc51-421f-8b25-76bd501d2137",
   "metadata": {},
   "outputs": [],
   "source": [
    "def average_fidelity(gate_list, wire_list, noise_param, over_rot):\n",
    "\n",
    "    def circuit():\n",
    "        for i in range(len(gate_list)):\n",
    "            getattr(qml,gate_list[i])(wires=wire_list[i])\n",
    "        \n",
    "    ref_device = qml.device('default.mixed', wires = 2)\n",
    "\n",
    "    @qml.qnode(ref_device)\n",
    "    def reference_circuit(phi, theta):\n",
    "        qml.Rot(phi, theta, 0, wires = 0)\n",
    "        circuit()\n",
    "        return qml.state()\n",
    "    \n",
    "    dev = qml.device('default.mixed', wires = 2)\n",
    "    \n",
    "    \n",
    "    def custom_cnot(wires):\n",
    "        \n",
    "        T=over_rot\n",
    "        B=noise_param\n",
    "        return [\n",
    "            qml.RZ(T-(np.pi)/2, wires=wires[0]),\n",
    "            qml.RX(T+(np.pi)/2, wires=wires[1]),\n",
    "            qml.RZ(T+(np.pi)/2, wires=wires[1]),\n",
    "            qml.ISWAP(wires=[wires[0], wires[1]]),\n",
    "            qml.RX(T+(np.pi)/2, wires=wires[0]),\n",
    "            qml.ISWAP(wires=[wires[0], wires[1]]),\n",
    "            qml.RZ(T+(np.pi)/2, wires=wires[1]),\n",
    "            qml.DepolarizingChannel(B, wires=wires[0]),\n",
    "            qml.DepolarizingChannel(B, wires=wires[1])\n",
    "        ]\n",
    "        # Put your code here #\n",
    "        # Return your custom CNOT gate as implemented by a superconducting qubit as an array, including noise\n",
    "        # See documentation for more details!\n",
    "    \n",
    "    custom_decomps = {qml.CNOT : custom_cnot} \n",
    "    expand_fn = qml.transforms.create_decomp_expand_fn(custom_decomps, dev)\n",
    "    dev.custom_expand(expand_fn) \n",
    "    \n",
    "    @qml.qnode(dev, expansion_strategy = \"device\")\n",
    "    def superconducting_circuit(phi,theta):\n",
    "        qml.Rot(phi, theta, 0, wires = 0)\n",
    "        circuit()\n",
    "        return qml.state()\n",
    "    \n",
    "    def fidelity(phi,theta):\n",
    "        \"\"\"Return the fidelity of the final state of the circuit, with respect to the ideal circuit, given\n",
    "        an initial state parametrized by phi and theta\"\"\"\n",
    "        # Put your code here #\n",
    "        state_0 = reference_circuit(phi, theta)\n",
    "        state_1 = superconducting_circuit(phi,theta)\n",
    "        FidelitY = qml.math.fidelity(state_0, state_1)\n",
    "        return FidelitY\n",
    "        \n",
    "    fidelity_array = np.zeros(len(sample))\n",
    "    for i in range(len(sample)):\n",
    "        fidelity_array[i] = fidelity(sample[i,1],sample[i,0])\n",
    "    \n",
    "    fidelity_Ave = np.average(fidelity_array)\n",
    "    \n",
    "    return fidelity_Ave"
   ]
  },
  {
   "cell_type": "code",
   "execution_count": 29,
   "id": "4e1cf249-0a00-4a3c-96c0-f1bb020dbfc1",
   "metadata": {},
   "outputs": [],
   "source": [
    "# These functions are responsible for testing the solution.\n",
    "\n",
    "def run(test_case_input: str) -> str:\n",
    "\t\t\n",
    "    ins = json.loads(test_case_input)\n",
    "    output = average_fidelity(*ins)\n",
    "\n",
    "    return str(output) \n",
    "\n",
    "def check(solution_output: str, expected_output: str) -> None:\n",
    "    \"\"\"\n",
    "    Compare solution with expected.\n",
    "\n",
    "    Args:\n",
    "            solution_output: The output from an evaluated solution. Will be\n",
    "            the same type as returned.\n",
    "            expected_output: The correct result for the test case.\n",
    "\n",
    "    Raises: \n",
    "            ``AssertionError`` if the solution output is incorrect in any way.\n",
    "    \"\"\"\n",
    "\n",
    "    solution_output = json.loads(solution_output)\n",
    "    expected_output = json.loads(expected_output)\n",
    "    assert np.allclose(\n",
    "        solution_output, expected_output, rtol=1e-2\n",
    "    ), \"Your calculated average fidelity isn't quite right.\""
   ]
  },
  {
   "cell_type": "code",
   "execution_count": 30,
   "id": "25b1f27a-7fb0-4ddb-85c3-505fb1bf1c46",
   "metadata": {},
   "outputs": [],
   "source": [
    "test_cases = [['[[\"Hadamard\",\"CNOT\",\"PauliZ\"],[0,[0,1],0],0.0001,0.01]', '0.363157'], ['[[\"CNOT\",\"PauliZ\",\"PauliZ\"],[[1,0],1,0],0.0001,0.01]', '0.445426']]"
   ]
  },
  {
   "cell_type": "code",
   "execution_count": 31,
   "id": "889e90f8-7ab5-4169-8539-1c817516f202",
   "metadata": {
    "tags": []
   },
   "outputs": [
    {
     "name": "stdout",
     "output_type": "stream",
     "text": [
      "Running test case 0 with input '[[\"Hadamard\",\"CNOT\",\"PauliZ\"],[0,[0,1],0],0.0001,0.01]'...\n",
      "Correct!\n",
      "Running test case 1 with input '[[\"CNOT\",\"PauliZ\",\"PauliZ\"],[[1,0],1,0],0.0001,0.01]'...\n",
      "Correct!\n"
     ]
    }
   ],
   "source": [
    "for i, (input_, expected_output) in enumerate(test_cases):\n",
    "    print(f\"Running test case {i} with input '{input_}'...\")\n",
    "\n",
    "    try:\n",
    "        output = run(input_)\n",
    "\n",
    "    except Exception as exc:\n",
    "        print(f\"Runtime Error. {exc}\")\n",
    "\n",
    "    else:\n",
    "        if message := check(output, expected_output):\n",
    "            print(f\"Wrong Answer. Have: '{output}'. Want: '{expected_output}'.\")\n",
    "\n",
    "        else:\n",
    "            print(\"Correct!\")"
   ]
  },
  {
   "cell_type": "code",
   "execution_count": null,
   "id": "9fdb256b-90f7-45f4-80d6-0807f1b4dcd8",
   "metadata": {},
   "outputs": [],
   "source": []
  }
 ],
 "metadata": {
  "kernelspec": {
   "display_name": "PennyLane",
   "language": "python",
   "name": "pennylane"
  },
  "language_info": {
   "codemirror_mode": {
    "name": "ipython",
    "version": 3
   },
   "file_extension": ".py",
   "mimetype": "text/x-python",
   "name": "python",
   "nbconvert_exporter": "python",
   "pygments_lexer": "ipython3",
   "version": "3.9.13"
  }
 },
 "nbformat": 4,
 "nbformat_minor": 5
}
