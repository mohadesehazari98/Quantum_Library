{
 "cells": [
  {
   "cell_type": "code",
   "execution_count": 1,
   "id": "7b96d1bc-9e2f-40c8-b31a-a37df5791caf",
   "metadata": {},
   "outputs": [],
   "source": [
    "import functools\n",
    "import json\n",
    "import math\n",
    "import pandas as pd\n",
    "import pennylane as qml\n",
    "import pennylane.numpy as np\n",
    "import scipy"
   ]
  },
  {
   "cell_type": "code",
   "execution_count": 2,
   "id": "9f7971de-3860-4dcd-b966-7b9b003e0ab2",
   "metadata": {},
   "outputs": [],
   "source": [
    "angle = 0.4"
   ]
  },
  {
   "cell_type": "code",
   "execution_count": 3,
   "id": "69540692-56d7-4129-82c4-ec956f046eee",
   "metadata": {},
   "outputs": [],
   "source": [
    "dev_ideal = qml.device(\"default.mixed\", wires=2)  # no noise\n",
    "dev_noisy = qml.transforms.insert(qml.DepolarizingChannel, 0.05, position=\"all\")(\n",
    "    dev_ideal\n",
    ")\n",
    "\n",
    "def U(angle):\n",
    "    \"\"\"A quantum function containing one parameterized gate.\n",
    "\n",
    "    Args:\n",
    "        angle (float): The phase angle for an IsingXY operator\n",
    "    \"\"\"\n",
    "    qml.Hadamard(0)\n",
    "    qml.Hadamard(1)\n",
    "    qml.CNOT(wires=[0, 1])\n",
    "    qml.PauliZ(1)\n",
    "    qml.IsingXY(angle, [0, 1])\n",
    "    qml.S(1)\n",
    "\n",
    "@qml.qnode(dev_noisy)\n",
    "def circuit(angle):\n",
    "    \"\"\"A quantum circuit made from the quantum function U.\n",
    "\n",
    "    Args:\n",
    "        angle (float): The phase angle for an IsingXY operator\n",
    "\n",
    "    Returns:\n",
    "        (numpy.array): A quantum state.\n",
    "    \"\"\"\n",
    "    U(angle)\n",
    "    return qml.state()\n",
    "\n",
    "@qml.tape.stop_recording()\n",
    "def circuit_ops(angle):\n",
    "    \"\"\"A function that outputs the operations within the quantum function U.\n",
    "\n",
    "    Args:\n",
    "        angle (float): The phase angle for an IsingXY operator\n",
    "\n",
    "    Returns:\n",
    "        (list(qml.operation.Operation)): A list of operations that make up the unitary U.\n",
    "    \"\"\"\n",
    "    with qml.tape.QuantumTape() as tape:\n",
    "        U(angle)\n",
    "    return tape.operations"
   ]
  },
  {
   "cell_type": "code",
   "execution_count": 5,
   "id": "527caa37-24e1-49c6-adb7-09cc22838771",
   "metadata": {},
   "outputs": [
    {
     "data": {
      "text/plain": [
       "IsingXY(0.4, wires=[0, 1])"
      ]
     },
     "execution_count": 5,
     "metadata": {},
     "output_type": "execute_result"
    }
   ],
   "source": [
    "a = circuit_ops(angle)\n",
    "a[4]"
   ]
  },
  {
   "cell_type": "code",
   "execution_count": 3,
   "id": "ec1abd0b-e6fe-4d6f-834b-a39e35a867fa",
   "metadata": {},
   "outputs": [],
   "source": [
    "@qml.qnode(dev_noisy)\n",
    "def global_fold_circuit(angle, n, s):\n",
    "    \"\"\"Performs the global circuit folding procedure.\n",
    "\n",
    "    Args:\n",
    "        angle (float): The phase angle for an IsingXY operator\n",
    "        n: The number of times U^\\dagger U is applied\n",
    "        s: The integer defining L_s ... L_d.\n",
    "\n",
    "    Returns:\n",
    "        (numpy.array): A quantum state.\n",
    "    \"\"\"\n",
    "    assert s <= len(\n",
    "        circuit_ops(angle)\n",
    "    ), \"The value of s is upper-bounded by the number of gates in the circuit.\"\n",
    "\n",
    "    U(angle)  #                                  U\n",
    "\n",
    "    for i in range(n): #                         (U^\\dagger U)^n\n",
    "        qml.adjoint(U)(angle)\n",
    "        U(angle)   \n",
    "    \n",
    "    a = circuit_ops(angle)\n",
    "    for j in range(len(a)-1,s-2,-1):#            L_d^\\dagger ... L_s^\\dagger\n",
    "        qml.adjoint(qml.apply(a[j])) \n",
    "        \n",
    "    for i in range(s-1,len(a)): #                L_s ... L_d\n",
    "        qml.apply(a[i]) \n",
    "\n",
    "    return qml.state()"
   ]
  },
  {
   "cell_type": "code",
   "execution_count": 4,
   "id": "693abb7e-16d0-44e9-a31f-2286dcd775c2",
   "metadata": {},
   "outputs": [],
   "source": [
    "def fidelity(angle, n, s):\n",
    "    fid = qml.math.fidelity(global_fold_circuit(angle, n, s), circuit(angle))\n",
    "    return np.round_(fid, decimals=5)"
   ]
  },
  {
   "cell_type": "code",
   "execution_count": 5,
   "id": "e2babfcb-19f5-4308-b37c-f8df0bd6665b",
   "metadata": {},
   "outputs": [],
   "source": [
    "# These functions are responsible for testing the solution.\n",
    "\n",
    "def run(test_case_input: str) -> str:\n",
    "    angle, n, s = json.loads(test_case_input)\n",
    "    fid = fidelity(angle, n, s)\n",
    "    return str(fid)\n",
    "\n",
    "def check(solution_output: str, expected_output: str) -> None:\n",
    "    solution_output = json.loads(solution_output)\n",
    "    expected_output = json.loads(expected_output)\n",
    "    assert np.allclose(\n",
    "        solution_output, expected_output, rtol=1e-4\n",
    "    ), \"Your folded circuit isn't quite right!\""
   ]
  },
  {
   "cell_type": "code",
   "execution_count": 6,
   "id": "13520bb3-6fea-44aa-a38f-8d2dbd6808a2",
   "metadata": {},
   "outputs": [],
   "source": [
    "test_cases = [['[0.4, 2, 3]', '0.79209']]"
   ]
  },
  {
   "cell_type": "code",
   "execution_count": 7,
   "id": "3d2d51e3-cdab-405a-84d3-3b3c992127e1",
   "metadata": {},
   "outputs": [
    {
     "name": "stdout",
     "output_type": "stream",
     "text": [
      "Running test case 0 with input '[0.4, 2, 3]'...\n",
      "Correct!\n"
     ]
    }
   ],
   "source": [
    "for i, (input_, expected_output) in enumerate(test_cases):\n",
    "    print(f\"Running test case {i} with input '{input_}'...\")\n",
    "\n",
    "    try:\n",
    "        output = run(input_)\n",
    "\n",
    "    except Exception as exc:\n",
    "        print(f\"Runtime Error. {exc}\")\n",
    "\n",
    "    else:\n",
    "        if message := check(output, expected_output):\n",
    "            print(f\"Wrong Answer. Have: '{output}'. Want: '{expected_output}'.\")\n",
    "\n",
    "        else:\n",
    "            print(\"Correct!\")"
   ]
  },
  {
   "cell_type": "code",
   "execution_count": null,
   "id": "4443155e-8499-4ff0-bb87-ce942ebfdea0",
   "metadata": {},
   "outputs": [],
   "source": []
  }
 ],
 "metadata": {
  "kernelspec": {
   "display_name": "PennyLane",
   "language": "python",
   "name": "pennylane"
  },
  "language_info": {
   "codemirror_mode": {
    "name": "ipython",
    "version": 3
   },
   "file_extension": ".py",
   "mimetype": "text/x-python",
   "name": "python",
   "nbconvert_exporter": "python",
   "pygments_lexer": "ipython3",
   "version": "3.9.13"
  }
 },
 "nbformat": 4,
 "nbformat_minor": 5
}
