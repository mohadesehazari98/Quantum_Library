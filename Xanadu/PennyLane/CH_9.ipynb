{
 "cells": [
  {
   "cell_type": "code",
   "execution_count": 1,
   "id": "975601da-0dce-4404-af62-803ac5a05e20",
   "metadata": {},
   "outputs": [],
   "source": [
    "import functools\n",
    "import json\n",
    "import math\n",
    "import pandas as pd\n",
    "import pennylane as qml\n",
    "import pennylane.numpy as np\n",
    "import scipy"
   ]
  },
  {
   "cell_type": "code",
   "execution_count": 2,
   "id": "a3f45e16-fc42-4885-9dcc-842baf7b9de2",
   "metadata": {},
   "outputs": [],
   "source": [
    "dev = qml.device(\"default.qubit\", wires=3)\n",
    "\n",
    "@qml.qnode(dev)\n",
    "def circuit(params):\n",
    "    \"\"\"The quantum circuit that you will differentiate!\n",
    "\n",
    "    Args:\n",
    "        params (list(float)): The parameters for gates in the circuit\n",
    "    \n",
    "    Returns:\n",
    "        (numpy.array): An expectation value. \n",
    "    \"\"\"\n",
    "    qml.broadcast(qml.Hadamard, wires=range(3), pattern=\"single\")\n",
    "    qml.CRX(params[0], [1, 2])\n",
    "    qml.CRY(params[1], [0, 1])\n",
    "    qml.CRZ(params[2], [2, 0])\n",
    "    return qml.expval(qml.PauliZ(0) + qml.PauliZ(1) + qml.PauliX(2))"
   ]
  },
  {
   "cell_type": "code",
   "execution_count": 3,
   "id": "fedf86b3-4541-4e96-8a05-d353931ff286",
   "metadata": {},
   "outputs": [],
   "source": [
    "def shifts_and_coeffs():\n",
    "    s_1 = (np.pi/2)\n",
    "    s_2 = 3*(np.pi/2)\n",
    "    c_1 = (np.sqrt(2)+1)/(4*np.sqrt(2))\n",
    "    c_2 = (np.sqrt(2)-1)/(4*np.sqrt(2))\n",
    "    \n",
    "    shifts = [s_1, s_2]\n",
    "    coeffs = [c_1, c_2]\n",
    "    return (shifts,coeffs)\n",
    "\n",
    "def my_parameter_shift_grad(params):\n",
    "\n",
    "    gradient = np.zeros_like(params)\n",
    "    shifts, coeffs = shifts_and_coeffs()\n",
    "\n",
    "    for i in range(len(params)):\n",
    "        #first we need to make two copies of the parameter list \n",
    "        param_first = np.zeros_like(params)\n",
    "        param_second = np.zeros_like(params)\n",
    "        param_third = np.zeros_like(params)\n",
    "        param_fourth = np.zeros_like(params)\n",
    "        #now we have to change their values in order to make the (Theta+s) (Theta-s)\n",
    "        for k in  range(len(params)):\n",
    "            if k == i:\n",
    "                param_first[k] = (params[k] + shifts[0])\n",
    "                param_second[k] = (params[k] - shifts[0])\n",
    "                param_third[k] = (params[k] + shifts[1])\n",
    "                param_fourth[k] = (params[k] - shifts[1])\n",
    "            \n",
    "            else:\n",
    "                param_first[k] = params[k] \n",
    "                param_second[k] = params[k]\n",
    "                param_third[k] = params[k]\n",
    "                param_fourth[k] = params[k]\n",
    "            \n",
    "        gradient[i] = coeffs[0]*(circuit(param_first) - circuit(param_second)) - coeffs[1]*(circuit(param_third) - circuit(param_fourth))\n",
    "        \n",
    "    return np.round_(gradient, decimals=5).tolist()"
   ]
  },
  {
   "cell_type": "code",
   "execution_count": 4,
   "id": "b70e2906-b748-441d-8747-b9fa755a6cad",
   "metadata": {},
   "outputs": [],
   "source": [
    "# These functions are responsible for testing the solution.\n",
    "\n",
    "def run(test_case_input: str) -> str:\n",
    "    params = json.loads(test_case_input)\n",
    "    gradient = my_parameter_shift_grad(params)\n",
    "    return str(gradient)\n",
    "\n",
    "def check(solution_output: str, expected_output: str) -> None:\n",
    "    solution_output = json.loads(solution_output)\n",
    "    expected_output = json.loads(expected_output)\n",
    "    assert np.allclose(\n",
    "        solution_output, expected_output, rtol=1e-4\n",
    "    ), \"Your gradient isn't quite right!\""
   ]
  },
  {
   "cell_type": "code",
   "execution_count": 5,
   "id": "6434b17d-8595-407b-b0ef-27900355ef01",
   "metadata": {},
   "outputs": [],
   "source": [
    "test_cases = [['[1.23, 0.6, 4.56]', '[0.08144, -0.33706, -0.37944]']]"
   ]
  },
  {
   "cell_type": "code",
   "execution_count": 6,
   "id": "00fdc1ae-6192-431d-b76e-d8c703efe83f",
   "metadata": {},
   "outputs": [
    {
     "name": "stdout",
     "output_type": "stream",
     "text": [
      "Running test case 0 with input '[1.23, 0.6, 4.56]'...\n",
      "Correct!\n"
     ]
    }
   ],
   "source": [
    "for i, (input_, expected_output) in enumerate(test_cases):\n",
    "    print(f\"Running test case {i} with input '{input_}'...\")\n",
    "\n",
    "    try:\n",
    "        output = run(input_)\n",
    "\n",
    "    except Exception as exc:\n",
    "        print(f\"Runtime Error. {exc}\")\n",
    "\n",
    "    else:\n",
    "        if message := check(output, expected_output):\n",
    "            print(f\"Wrong Answer. Have: '{output}'. Want: '{expected_output}'.\")\n",
    "\n",
    "        else:\n",
    "            print(\"Correct!\")"
   ]
  },
  {
   "cell_type": "code",
   "execution_count": null,
   "id": "476579e6-a42e-4096-85d1-6849d90c41eb",
   "metadata": {},
   "outputs": [],
   "source": []
  }
 ],
 "metadata": {
  "kernelspec": {
   "display_name": "PennyLane",
   "language": "python",
   "name": "pennylane"
  },
  "language_info": {
   "codemirror_mode": {
    "name": "ipython",
    "version": 3
   },
   "file_extension": ".py",
   "mimetype": "text/x-python",
   "name": "python",
   "nbconvert_exporter": "python",
   "pygments_lexer": "ipython3",
   "version": "3.9.13"
  }
 },
 "nbformat": 4,
 "nbformat_minor": 5
}
