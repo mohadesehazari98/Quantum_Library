{
 "cells": [
  {
   "cell_type": "code",
   "execution_count": 1,
   "id": "03efacdf",
   "metadata": {
    "collapsed": true
   },
   "outputs": [
    {
     "name": "stdout",
     "output_type": "stream",
     "text": [
      "Requirement already satisfied: strawberryfields in c:\\users\\mohadeseh\\anaconda3\\envs\\algorithm\\lib\\site-packages (0.23.0)\n",
      "Requirement already satisfied: toml in c:\\users\\mohadeseh\\anaconda3\\envs\\algorithm\\lib\\site-packages (from strawberryfields) (0.10.2)\n",
      "Requirement already satisfied: networkx>=2.0 in c:\\users\\mohadeseh\\anaconda3\\envs\\algorithm\\lib\\site-packages (from strawberryfields) (3.0)\n",
      "Requirement already satisfied: quantum-xir>=0.1.1 in c:\\users\\mohadeseh\\anaconda3\\envs\\algorithm\\lib\\site-packages (from strawberryfields) (0.2.2)\n",
      "Requirement already satisfied: thewalrus>=0.18.0 in c:\\users\\mohadeseh\\anaconda3\\envs\\algorithm\\lib\\site-packages (from strawberryfields) (0.19.0)\n",
      "Requirement already satisfied: urllib3>=1.25.3 in c:\\users\\mohadeseh\\anaconda3\\envs\\algorithm\\lib\\site-packages (from strawberryfields) (1.26.14)\n",
      "Requirement already satisfied: quantum-blackbird>=0.3.0 in c:\\users\\mohadeseh\\anaconda3\\envs\\algorithm\\lib\\site-packages (from strawberryfields) (0.5.0)\n",
      "Requirement already satisfied: numpy>=1.17.4 in c:\\users\\mohadeseh\\anaconda3\\envs\\algorithm\\lib\\site-packages (from strawberryfields) (1.23.5)\n",
      "Requirement already satisfied: sympy>=1.5 in c:\\users\\mohadeseh\\anaconda3\\envs\\algorithm\\lib\\site-packages (from strawberryfields) (1.11.1)\n",
      "Requirement already satisfied: scipy>=1.0.0 in c:\\users\\mohadeseh\\anaconda3\\envs\\algorithm\\lib\\site-packages (from strawberryfields) (1.10.0)\n",
      "Requirement already satisfied: python-dateutil>=2.8.0 in c:\\users\\mohadeseh\\anaconda3\\envs\\algorithm\\lib\\site-packages (from strawberryfields) (2.8.2)\n",
      "Requirement already satisfied: requests>=2.22.0 in c:\\users\\mohadeseh\\anaconda3\\envs\\algorithm\\lib\\site-packages (from strawberryfields) (2.28.2)\n",
      "Requirement already satisfied: xanadu-cloud-client>=0.2.1 in c:\\users\\mohadeseh\\anaconda3\\envs\\algorithm\\lib\\site-packages (from strawberryfields) (0.3.0)\n",
      "Requirement already satisfied: numba in c:\\users\\mohadeseh\\anaconda3\\envs\\algorithm\\lib\\site-packages (from strawberryfields) (0.56.4)\n",
      "Requirement already satisfied: six>=1.5 in c:\\users\\mohadeseh\\anaconda3\\envs\\algorithm\\lib\\site-packages (from python-dateutil>=2.8.0->strawberryfields) (1.16.0)\n",
      "Requirement already satisfied: antlr4-python3-runtime==4.9.2 in c:\\users\\mohadeseh\\anaconda3\\envs\\algorithm\\lib\\site-packages (from quantum-blackbird>=0.3.0->strawberryfields) (4.9.2)\n",
      "Requirement already satisfied: lark-parser>=0.11.0 in c:\\users\\mohadeseh\\anaconda3\\envs\\algorithm\\lib\\site-packages (from quantum-xir>=0.1.1->strawberryfields) (0.12.0)\n",
      "Requirement already satisfied: certifi>=2017.4.17 in c:\\users\\mohadeseh\\anaconda3\\envs\\algorithm\\lib\\site-packages (from requests>=2.22.0->strawberryfields) (2022.12.7)\n",
      "Requirement already satisfied: charset-normalizer<4,>=2 in c:\\users\\mohadeseh\\anaconda3\\envs\\algorithm\\lib\\site-packages (from requests>=2.22.0->strawberryfields) (3.0.1)\n",
      "Requirement already satisfied: idna<4,>=2.5 in c:\\users\\mohadeseh\\anaconda3\\envs\\algorithm\\lib\\site-packages (from requests>=2.22.0->strawberryfields) (3.4)\n",
      "Requirement already satisfied: mpmath>=0.19 in c:\\users\\mohadeseh\\anaconda3\\envs\\algorithm\\lib\\site-packages (from sympy>=1.5->strawberryfields) (1.2.1)\n",
      "Requirement already satisfied: dask[delayed] in c:\\users\\mohadeseh\\anaconda3\\envs\\algorithm\\lib\\site-packages (from thewalrus>=0.18.0->strawberryfields) (2023.1.1)\n",
      "Requirement already satisfied: setuptools in c:\\users\\mohadeseh\\anaconda3\\envs\\algorithm\\lib\\site-packages (from numba->strawberryfields) (65.6.3)\n",
      "Requirement already satisfied: llvmlite<0.40,>=0.39.0dev0 in c:\\users\\mohadeseh\\anaconda3\\envs\\algorithm\\lib\\site-packages (from numba->strawberryfields) (0.39.1)\n",
      "Requirement already satisfied: pydantic[dotenv] in c:\\users\\mohadeseh\\anaconda3\\envs\\algorithm\\lib\\site-packages (from xanadu-cloud-client>=0.2.1->strawberryfields) (1.10.4)\n",
      "Requirement already satisfied: fire in c:\\users\\mohadeseh\\anaconda3\\envs\\algorithm\\lib\\site-packages (from xanadu-cloud-client>=0.2.1->strawberryfields) (0.5.0)\n",
      "Requirement already satisfied: appdirs in c:\\users\\mohadeseh\\anaconda3\\envs\\algorithm\\lib\\site-packages (from xanadu-cloud-client>=0.2.1->strawberryfields) (1.4.4)\n",
      "Requirement already satisfied: toolz>=0.8.2 in c:\\users\\mohadeseh\\anaconda3\\envs\\algorithm\\lib\\site-packages (from dask[delayed]->thewalrus>=0.18.0->strawberryfields) (0.12.0)\n",
      "Requirement already satisfied: fsspec>=0.6.0 in c:\\users\\mohadeseh\\anaconda3\\envs\\algorithm\\lib\\site-packages (from dask[delayed]->thewalrus>=0.18.0->strawberryfields) (2023.1.0)\n",
      "Requirement already satisfied: partd>=0.3.10 in c:\\users\\mohadeseh\\anaconda3\\envs\\algorithm\\lib\\site-packages (from dask[delayed]->thewalrus>=0.18.0->strawberryfields) (1.3.0)\n",
      "Requirement already satisfied: cloudpickle>=1.1.1 in c:\\users\\mohadeseh\\anaconda3\\envs\\algorithm\\lib\\site-packages (from dask[delayed]->thewalrus>=0.18.0->strawberryfields) (2.2.1)\n",
      "Requirement already satisfied: click>=7.0 in c:\\users\\mohadeseh\\anaconda3\\envs\\algorithm\\lib\\site-packages (from dask[delayed]->thewalrus>=0.18.0->strawberryfields) (8.1.3)\n",
      "Requirement already satisfied: packaging>=20.0 in c:\\users\\mohadeseh\\anaconda3\\envs\\algorithm\\lib\\site-packages (from dask[delayed]->thewalrus>=0.18.0->strawberryfields) (22.0)\n",
      "Requirement already satisfied: pyyaml>=5.3.1 in c:\\users\\mohadeseh\\anaconda3\\envs\\algorithm\\lib\\site-packages (from dask[delayed]->thewalrus>=0.18.0->strawberryfields) (6.0)\n",
      "Requirement already satisfied: termcolor in c:\\users\\mohadeseh\\anaconda3\\envs\\algorithm\\lib\\site-packages (from fire->xanadu-cloud-client>=0.2.1->strawberryfields) (2.2.0)\n",
      "Requirement already satisfied: typing-extensions>=4.2.0 in c:\\users\\mohadeseh\\anaconda3\\envs\\algorithm\\lib\\site-packages (from pydantic[dotenv]->xanadu-cloud-client>=0.2.1->strawberryfields) (4.4.0)\n",
      "Requirement already satisfied: python-dotenv>=0.10.4 in c:\\users\\mohadeseh\\anaconda3\\envs\\algorithm\\lib\\site-packages (from pydantic[dotenv]->xanadu-cloud-client>=0.2.1->strawberryfields) (0.21.1)\n",
      "Requirement already satisfied: colorama in c:\\users\\mohadeseh\\anaconda3\\envs\\algorithm\\lib\\site-packages (from click>=7.0->dask[delayed]->thewalrus>=0.18.0->strawberryfields) (0.4.6)\n",
      "Requirement already satisfied: locket in c:\\users\\mohadeseh\\anaconda3\\envs\\algorithm\\lib\\site-packages (from partd>=0.3.10->dask[delayed]->thewalrus>=0.18.0->strawberryfields) (1.0.0)\n",
      "Note: you may need to restart the kernel to use updated packages.\n"
     ]
    }
   ],
   "source": [
    "pip install strawberryfields --upgrade"
   ]
  },
  {
   "cell_type": "code",
   "execution_count": 17,
   "id": "e66768ed",
   "metadata": {
    "collapsed": true
   },
   "outputs": [
    {
     "name": "stdout",
     "output_type": "stream",
     "text": [
      "Collecting matplotlib\n",
      "  Downloading matplotlib-3.6.3-cp39-cp39-win_amd64.whl (7.2 MB)\n",
      "     ---------------------------------------- 7.2/7.2 MB 32.9 MB/s eta 0:00:00\n",
      "Collecting fonttools>=4.22.0\n",
      "  Downloading fonttools-4.38.0-py3-none-any.whl (965 kB)\n",
      "     ------------------------------------- 965.4/965.4 kB 59.7 MB/s eta 0:00:00\n",
      "Requirement already satisfied: packaging>=20.0 in c:\\users\\mohadeseh\\anaconda3\\envs\\algorithm\\lib\\site-packages (from matplotlib) (22.0)\n",
      "Collecting pyparsing>=2.2.1\n",
      "  Downloading pyparsing-3.0.9-py3-none-any.whl (98 kB)\n",
      "     ---------------------------------------- 98.3/98.3 kB ? eta 0:00:00\n",
      "Requirement already satisfied: python-dateutil>=2.7 in c:\\users\\mohadeseh\\anaconda3\\envs\\algorithm\\lib\\site-packages (from matplotlib) (2.8.2)\n",
      "Collecting cycler>=0.10\n",
      "  Downloading cycler-0.11.0-py3-none-any.whl (6.4 kB)\n",
      "Collecting kiwisolver>=1.0.1\n",
      "  Downloading kiwisolver-1.4.4-cp39-cp39-win_amd64.whl (55 kB)\n",
      "     ---------------------------------------- 55.4/55.4 kB 2.8 MB/s eta 0:00:00\n",
      "Collecting pillow>=6.2.0\n",
      "  Downloading Pillow-9.4.0-cp39-cp39-win_amd64.whl (2.5 MB)\n",
      "     ---------------------------------------- 2.5/2.5 MB 54.1 MB/s eta 0:00:00\n",
      "Collecting contourpy>=1.0.1\n",
      "  Downloading contourpy-1.0.7-cp39-cp39-win_amd64.whl (160 kB)\n",
      "     -------------------------------------- 160.2/160.2 kB 9.4 MB/s eta 0:00:00\n",
      "Requirement already satisfied: numpy>=1.19 in c:\\users\\mohadeseh\\anaconda3\\envs\\algorithm\\lib\\site-packages (from matplotlib) (1.23.5)\n",
      "Requirement already satisfied: six>=1.5 in c:\\users\\mohadeseh\\anaconda3\\envs\\algorithm\\lib\\site-packages (from python-dateutil>=2.7->matplotlib) (1.16.0)\n",
      "Installing collected packages: pyparsing, pillow, kiwisolver, fonttools, cycler, contourpy, matplotlib\n",
      "Successfully installed contourpy-1.0.7 cycler-0.11.0 fonttools-4.38.0 kiwisolver-1.4.4 matplotlib-3.6.3 pillow-9.4.0 pyparsing-3.0.9\n",
      "Note: you may need to restart the kernel to use updated packages.\n"
     ]
    }
   ],
   "source": [
    "pip install matplotlib"
   ]
  },
  {
   "cell_type": "code",
   "execution_count": 1,
   "id": "a8e47386",
   "metadata": {},
   "outputs": [],
   "source": [
    "import numpy as np\n",
    "import math as math\n",
    "import strawberryfields as sf \n",
    "from strawberryfields.ops import *\n",
    "from strawberryfields.apps import sample\n",
    "import matplotlib.pyplot as plt\n",
    "from mpl_toolkits.mplot3d import Axes3D\n",
    "from mpmath import *"
   ]
  },
  {
   "cell_type": "code",
   "execution_count": 2,
   "id": "d2d58875",
   "metadata": {},
   "outputs": [],
   "source": [
    "# define critical variables \n",
    "epsilon = 0.08\n",
    "shots = 1500\n",
    "scale = np.sqrt(sf.hbar * np.pi)"
   ]
  },
  {
   "cell_type": "markdown",
   "id": "cdf453e8",
   "metadata": {},
   "source": [
    "***Create the orthonormal basis for GKP***"
   ]
  },
  {
   "cell_type": "code",
   "execution_count": 3,
   "id": "11b7b1e9",
   "metadata": {},
   "outputs": [],
   "source": [
    "zero = [0, 0]\n",
    "one = [np.pi, 0]\n",
    "\n",
    "\n",
    "prog_gkp_1 = sf.Program(1)\n",
    "with prog_gkp_1.context as q:\n",
    "    sf.ops.GKP(state = one, epsilon=epsilon) | q\n",
    "    sf.ops.MeasureX | q\n",
    "eng = sf.Engine(\"bosonic\")\n",
    "gkp_samples_1 = eng.run(prog_gkp_1, shots=shots).samples[:, 0]\n",
    "\n",
    "\n",
    "\n",
    "prog_gkp_0 = sf.Program(1)\n",
    "with prog_gkp_0.context as q:\n",
    "    sf.ops.GKP(state = zero, epsilon=epsilon) | q\n",
    "    sf.ops.MeasureX | q\n",
    "eng = sf.Engine(\"bosonic\")\n",
    "gkp_samples_0 = eng.run(prog_gkp_0, shots=shots).samples[:, 0]"
   ]
  },
  {
   "cell_type": "code",
   "execution_count": 10,
   "id": "e8be684f",
   "metadata": {},
   "outputs": [
    {
     "data": {
      "image/png": "[encoded data removed]",
      "text/plain": [
       "<Figure size 1000x400 with 2 Axes>"
      ]
     },
     "metadata": {},
     "output_type": "display_data"
    }
   ],
   "source": [
    "# Plot the results\n",
    "fig, axs = plt.subplots(1, 2, figsize=(10, 4))\n",
    "fig.suptitle(r\"$|0^\\epsilon\\rangle_{GKP}$, $\\epsilon=$ \" + str(epsilon) + \".\", fontsize=10)\n",
    "\n",
    "axs[0].hist(gkp_samples_1 / scale, bins=100, density=True, label=\"Samples\", color=\"cornflowerblue\")\n",
    "axs[0].set_xlabel(r\"GKP|1> (units of $\\sqrt{\\pi\\hbar}$)\", fontsize=10)\n",
    "axs[0].set_ylabel(\"Pr()\", fontsize=5)\n",
    "\n",
    "axs[1].hist(gkp_samples_0 / scale, bins=100, density=True, label=\"Samples\", color=\"cornflowerblue\")\n",
    "axs[1].set_xlabel(r\"GKP|0> (units of $\\sqrt{\\pi\\hbar}$)\", fontsize=10)\n",
    "axs[1].set_ylabel(\"Pr()\", fontsize=5)\n",
    "\n",
    "axs[1].legend()\n",
    "axs[0].tick_params(labelsize=10)\n",
    "axs[1].tick_params(labelsize=10)\n",
    "plt.show()"
   ]
  },
  {
   "cell_type": "markdown",
   "id": "e193d8dc",
   "metadata": {},
   "source": [
    "***Create the orthonormal basis for Cat***"
   ]
  },
  {
   "cell_type": "code",
   "execution_count": null,
   "id": "b84a488d",
   "metadata": {},
   "outputs": [],
   "source": []
  }
 ],
 "metadata": {
  "kernelspec": {
   "display_name": "Python 3 (ipykernel)",
   "language": "python",
   "name": "python3"
  },
  "language_info": {
   "codemirror_mode": {
    "name": "ipython",
    "version": 3
   },
   "file_extension": ".py",
   "mimetype": "text/x-python",
   "name": "python",
   "nbconvert_exporter": "python",
   "pygments_lexer": "ipython3",
   "version": "3.9.16"
  }
 },
 "nbformat": 4,
 "nbformat_minor": 5
}
